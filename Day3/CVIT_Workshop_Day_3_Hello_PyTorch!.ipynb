{
  "nbformat": 4,
  "nbformat_minor": 0,
  "metadata": {
    "colab": {
      "name": "CVIT Workshop Day 3: Hello PyTorch!",
      "provenance": [],
      "collapsed_sections": [
        "CPR_geEb75Yf"
      ],
      "include_colab_link": true
    },
    "kernelspec": {
      "name": "python3",
      "display_name": "Python 3"
    },
    "language_info": {
      "name": "python"
    },
    "accelerator": "GPU"
  },
  "cells": [
    {
      "cell_type": "markdown",
      "metadata": {
        "id": "view-in-github",
        "colab_type": "text"
      },
      "source": [
        "<a href=\"https://colab.research.google.com/github/NeerajVeerla/CVworkshop/blob/master/Day3/CVIT_Workshop_Day_3_Hello_PyTorch!.ipynb\" target=\"_parent\"><img src=\"https://colab.research.google.com/assets/colab-badge.svg\" alt=\"Open In Colab\"/></a>"
      ]
    },
    {
      "cell_type": "markdown",
      "source": [
        "## CVIT Workshop Day 3"
      ],
      "metadata": {
        "id": "42E7LvXWlKlD"
      }
    },
    {
      "cell_type": "code",
      "execution_count": null,
      "metadata": {
        "id": "6alIgN57lEnV"
      },
      "outputs": [],
      "source": [
        "# implement your linear regression code here.\n",
        "# using numpy!"
      ]
    },
    {
      "cell_type": "markdown",
      "source": [
        "# Hello PyTorch!"
      ],
      "metadata": {
        "id": "LUiYkZvvtpZ_"
      }
    },
    {
      "cell_type": "code",
      "source": [
        "import torch"
      ],
      "metadata": {
        "id": "qWU5xkEZreAb"
      },
      "execution_count": null,
      "outputs": []
    },
    {
      "cell_type": "markdown",
      "source": [
        "## Tensors!"
      ],
      "metadata": {
        "id": "-wLKyqRDxPgE"
      }
    },
    {
      "cell_type": "markdown",
      "source": [
        "A Tensor is a fundamental Data Structure underlying most deep learning calculations. Understanding Tensors is key to run operations on them.\n",
        "\n",
        "\n",
        "But What is a Tensor?\n",
        "\n",
        "A Tensor is very similar to a matrix - but they can represent even higher dimensions and have couple of extra properties!"
      ],
      "metadata": {
        "id": "C2zTiJHgxRC8"
      }
    },
    {
      "cell_type": "markdown",
      "source": [
        "### Tensor Initialization:\n",
        "\n",
        "There are various ways in which you can initialize a Tensor:"
      ],
      "metadata": {
        "id": "6wGffhFDx9M3"
      }
    },
    {
      "cell_type": "markdown",
      "source": [
        "#### 1. From a Python *List*"
      ],
      "metadata": {
        "id": "E77bYNqhyEwa"
      }
    },
    {
      "cell_type": "code",
      "source": [
        "# lets define a python list\n",
        "x = [1,2,3,4]\n",
        "x = torch.tensor(x)"
      ],
      "metadata": {
        "id": "KDFoQ_Sqrb4x"
      },
      "execution_count": null,
      "outputs": []
    },
    {
      "cell_type": "code",
      "source": [
        "x.shape"
      ],
      "metadata": {
        "colab": {
          "base_uri": "https://localhost:8080/"
        },
        "id": "lqmfUpZq0WaC",
        "outputId": "589ea2d0-0b8e-48a1-cb31-c59ca3bb1647"
      },
      "execution_count": null,
      "outputs": [
        {
          "output_type": "execute_result",
          "data": {
            "text/plain": [
              "torch.Size([4])"
            ]
          },
          "metadata": {},
          "execution_count": 94
        }
      ]
    },
    {
      "cell_type": "code",
      "source": [
        "x.dtype"
      ],
      "metadata": {
        "colab": {
          "base_uri": "https://localhost:8080/"
        },
        "id": "jk2CAUme0XdJ",
        "outputId": "0b1402ed-e81d-400b-b8ae-61c8d7d18a1b"
      },
      "execution_count": null,
      "outputs": [
        {
          "output_type": "execute_result",
          "data": {
            "text/plain": [
              "torch.int64"
            ]
          },
          "metadata": {},
          "execution_count": 95
        }
      ]
    },
    {
      "cell_type": "markdown",
      "source": [
        "Every Tensor has data type. And every element in a tensor will be of same data type.\n",
        "\n",
        "In the above example, all elements are ints, and even though I did not tell `torch` that I would want an `int` as a data type of the tensor `x` , it inferred that, because all of the elements were ints the first place.\n",
        "\n",
        "\n",
        "However, let's see what happens if I place one float."
      ],
      "metadata": {
        "id": "Qjg324P30bLy"
      }
    },
    {
      "cell_type": "code",
      "source": [
        "x = [1.0,2,3,4]\n",
        "x = torch.tensor(x)"
      ],
      "metadata": {
        "id": "CrkGMs1Y1BC3"
      },
      "execution_count": null,
      "outputs": []
    },
    {
      "cell_type": "code",
      "source": [
        "x.shape"
      ],
      "metadata": {
        "colab": {
          "base_uri": "https://localhost:8080/"
        },
        "id": "3n5QgHJ81E-f",
        "outputId": "9d0b97ec-56f3-4f1f-c302-7a0214cccbba"
      },
      "execution_count": null,
      "outputs": [
        {
          "output_type": "execute_result",
          "data": {
            "text/plain": [
              "torch.Size([4])"
            ]
          },
          "metadata": {},
          "execution_count": 97
        }
      ]
    },
    {
      "cell_type": "code",
      "source": [
        "x.dtype"
      ],
      "metadata": {
        "colab": {
          "base_uri": "https://localhost:8080/"
        },
        "id": "6gvjzNQF1HoO",
        "outputId": "d9b126f1-5be2-4ede-e09c-47064b1df5a7"
      },
      "execution_count": null,
      "outputs": [
        {
          "output_type": "execute_result",
          "data": {
            "text/plain": [
              "torch.float32"
            ]
          },
          "metadata": {},
          "execution_count": 98
        }
      ]
    },
    {
      "cell_type": "markdown",
      "source": [
        "`x` is now of type float.! Torch infers which data type to create, if not specified.\n",
        "\n",
        "You could specify the data type."
      ],
      "metadata": {
        "id": "rB49lyQw1KZt"
      }
    },
    {
      "cell_type": "code",
      "source": [
        "x = [1.5,2,3,4]\n",
        "x = torch.tensor(x,dtype=torch.int32)"
      ],
      "metadata": {
        "id": "PWAuZNwN1OyL"
      },
      "execution_count": null,
      "outputs": []
    },
    {
      "cell_type": "code",
      "source": [
        "x"
      ],
      "metadata": {
        "colab": {
          "base_uri": "https://localhost:8080/"
        },
        "id": "kaQRT5S715zH",
        "outputId": "3b71acde-6a03-4b0f-e5a4-2c0af6c23514"
      },
      "execution_count": null,
      "outputs": [
        {
          "output_type": "execute_result",
          "data": {
            "text/plain": [
              "tensor([1, 2, 3, 4], dtype=torch.int32)"
            ]
          },
          "metadata": {},
          "execution_count": 100
        }
      ]
    },
    {
      "cell_type": "code",
      "source": [
        "x.dtype"
      ],
      "metadata": {
        "colab": {
          "base_uri": "https://localhost:8080/"
        },
        "id": "zapBLtde1GEG",
        "outputId": "d474c5ad-994f-431f-aa43-afc9ceb51246"
      },
      "execution_count": null,
      "outputs": [
        {
          "output_type": "execute_result",
          "data": {
            "text/plain": [
              "torch.int32"
            ]
          },
          "metadata": {},
          "execution_count": 101
        }
      ]
    },
    {
      "cell_type": "markdown",
      "source": [
        "**Multiple Dimensions**"
      ],
      "metadata": {
        "id": "4xvjJk7j19F4"
      }
    },
    {
      "cell_type": "code",
      "source": [
        "x = [[1,2,3],[4,5,6]]"
      ],
      "metadata": {
        "id": "1vBnMXYg0SgB"
      },
      "execution_count": null,
      "outputs": []
    },
    {
      "cell_type": "code",
      "source": [
        "x = torch.tensor(x)\n",
        "x.shape"
      ],
      "metadata": {
        "colab": {
          "base_uri": "https://localhost:8080/"
        },
        "id": "KO8M2QNi2Ciy",
        "outputId": "12a43897-3a95-444a-9c17-5dba97ee850d"
      },
      "execution_count": null,
      "outputs": [
        {
          "output_type": "execute_result",
          "data": {
            "text/plain": [
              "torch.Size([2, 3])"
            ]
          },
          "metadata": {},
          "execution_count": 103
        }
      ]
    },
    {
      "cell_type": "code",
      "source": [
        "x.dtype"
      ],
      "metadata": {
        "colab": {
          "base_uri": "https://localhost:8080/"
        },
        "id": "TAnCI6R6PXiN",
        "outputId": "e574575f-9fe0-45b7-bac2-81873c08d4d4"
      },
      "execution_count": null,
      "outputs": [
        {
          "output_type": "execute_result",
          "data": {
            "text/plain": [
              "torch.int64"
            ]
          },
          "metadata": {},
          "execution_count": 104
        }
      ]
    },
    {
      "cell_type": "markdown",
      "source": [
        "Get a float tensor from int tensor by running the `tensor.float()` or `tensor.int()` operations."
      ],
      "metadata": {
        "id": "U2ro6DCT2V_a"
      }
    },
    {
      "cell_type": "code",
      "source": [
        "x.float()"
      ],
      "metadata": {
        "colab": {
          "base_uri": "https://localhost:8080/"
        },
        "id": "TwBzGQgP2TxQ",
        "outputId": "6599d5df-74de-4a06-f0d8-28b026feca02"
      },
      "execution_count": null,
      "outputs": [
        {
          "output_type": "execute_result",
          "data": {
            "text/plain": [
              "tensor([[1., 2., 3.],\n",
              "        [4., 5., 6.]])"
            ]
          },
          "metadata": {},
          "execution_count": 105
        }
      ]
    },
    {
      "cell_type": "markdown",
      "source": [
        "It returns tensor of new data type -- does not convert `x` to the new data type."
      ],
      "metadata": {
        "id": "-EMqI6qn2lAQ"
      }
    },
    {
      "cell_type": "code",
      "source": [
        "x.dtype"
      ],
      "metadata": {
        "colab": {
          "base_uri": "https://localhost:8080/"
        },
        "id": "IzDdDjsT2hMw",
        "outputId": "5beefda0-4a6f-4de9-a69f-f200cb02a000"
      },
      "execution_count": null,
      "outputs": [
        {
          "output_type": "execute_result",
          "data": {
            "text/plain": [
              "torch.int64"
            ]
          },
          "metadata": {},
          "execution_count": 106
        }
      ]
    },
    {
      "cell_type": "code",
      "source": [
        "x = [[1,2,3],[1,2,4]]\n",
        "x = torch.tensor(x)"
      ],
      "metadata": {
        "id": "k1l7Y7OdPmw5"
      },
      "execution_count": null,
      "outputs": []
    },
    {
      "cell_type": "markdown",
      "source": [
        "#### 2. From a  Numpy Array"
      ],
      "metadata": {
        "id": "KyYzWDAC3VAX"
      }
    },
    {
      "cell_type": "markdown",
      "source": [
        "Torch and numpy are highly compatible."
      ],
      "metadata": {
        "id": "lQMmT87B4Di6"
      }
    },
    {
      "cell_type": "code",
      "source": [
        "import numpy as np\n",
        "\n",
        "# Initialize a tensor from a NumPy array\n",
        "data = np.ones((3,5))\n",
        "ndarray = np.array(data)\n",
        "type(ndarray)"
      ],
      "metadata": {
        "colab": {
          "base_uri": "https://localhost:8080/"
        },
        "id": "i8LCz6JlvGs5",
        "outputId": "c93fcc89-becf-4b17-d2ae-57525ba4143b"
      },
      "execution_count": null,
      "outputs": [
        {
          "output_type": "execute_result",
          "data": {
            "text/plain": [
              "numpy.ndarray"
            ]
          },
          "metadata": {},
          "execution_count": 108
        }
      ]
    },
    {
      "cell_type": "code",
      "source": [
        "ndarray"
      ],
      "metadata": {
        "colab": {
          "base_uri": "https://localhost:8080/"
        },
        "id": "_bS76is23_m9",
        "outputId": "46522c66-bf75-4440-e79d-df8c25564674"
      },
      "execution_count": null,
      "outputs": [
        {
          "output_type": "execute_result",
          "data": {
            "text/plain": [
              "array([[1., 1., 1., 1., 1.],\n",
              "       [1., 1., 1., 1., 1.],\n",
              "       [1., 1., 1., 1., 1.]])"
            ]
          },
          "metadata": {},
          "execution_count": 109
        }
      ]
    },
    {
      "cell_type": "code",
      "source": [
        "ndarray = torch.from_numpy(ndarray)"
      ],
      "metadata": {
        "id": "y3zLqdog3i7B"
      },
      "execution_count": null,
      "outputs": []
    },
    {
      "cell_type": "code",
      "source": [
        "ndarray"
      ],
      "metadata": {
        "colab": {
          "base_uri": "https://localhost:8080/"
        },
        "id": "Favfw0Zl3xYq",
        "outputId": "084e6151-c31c-4921-c639-b1e676e5afa9"
      },
      "execution_count": null,
      "outputs": [
        {
          "output_type": "execute_result",
          "data": {
            "text/plain": [
              "tensor([[1., 1., 1., 1., 1.],\n",
              "        [1., 1., 1., 1., 1.],\n",
              "        [1., 1., 1., 1., 1.]], dtype=torch.float64)"
            ]
          },
          "metadata": {},
          "execution_count": 111
        }
      ]
    },
    {
      "cell_type": "code",
      "source": [
        "type(ndarray)"
      ],
      "metadata": {
        "colab": {
          "base_uri": "https://localhost:8080/"
        },
        "id": "X1WAIqj9393U",
        "outputId": "bd3f3503-fe34-4665-b546-d4028508c86a"
      },
      "execution_count": null,
      "outputs": [
        {
          "output_type": "execute_result",
          "data": {
            "text/plain": [
              "torch.Tensor"
            ]
          },
          "metadata": {},
          "execution_count": 112
        }
      ]
    },
    {
      "cell_type": "markdown",
      "source": [
        "#### 3. From a Tensor\n",
        "We can also initialize a tensor from another tensor, using the following methods:\n",
        "\n",
        "- `torch.ones_like(old_tensor)`: Initializes a tensor of 1s.\n",
        "- `torch.zeros_like(old_tensor)`: Initializes a tensor of 0s.\n",
        "- `torch.rand_like(old_tensor)`: Initializes a tensor where all the elements are sampled from a uniform distribution between 0 and 1.\n",
        "- `torch.randn_like(old_tensor)`: Initializes a tensor where all the elements are sampled from a normal distribution.\n",
        "\n",
        "All of these methods preserve the tensor properties of the original tensor passed in, such as the shape and device, which we will cover in a bit."
      ],
      "metadata": {
        "id": "7G2sEYh_4I_3"
      }
    },
    {
      "cell_type": "code",
      "source": [
        "# Initialize a base tensor\n",
        "x = torch.tensor([[1., 2.], [3., 4.]])\n",
        "x"
      ],
      "metadata": {
        "colab": {
          "base_uri": "https://localhost:8080/"
        },
        "id": "q0LGmZql3-3q",
        "outputId": "74c57d1f-902b-48f5-9b0f-06cabb587b91"
      },
      "execution_count": null,
      "outputs": [
        {
          "output_type": "execute_result",
          "data": {
            "text/plain": [
              "tensor([[1., 2.],\n",
              "        [3., 4.]])"
            ]
          },
          "metadata": {},
          "execution_count": 113
        }
      ]
    },
    {
      "cell_type": "code",
      "source": [
        "x.dtype"
      ],
      "metadata": {
        "colab": {
          "base_uri": "https://localhost:8080/"
        },
        "id": "E8g6FJY0QWkh",
        "outputId": "ce6b0359-02da-4e51-9ba0-e02a52969b62"
      },
      "execution_count": null,
      "outputs": [
        {
          "output_type": "execute_result",
          "data": {
            "text/plain": [
              "torch.float32"
            ]
          },
          "metadata": {},
          "execution_count": 114
        }
      ]
    },
    {
      "cell_type": "code",
      "source": [
        "x.shape"
      ],
      "metadata": {
        "colab": {
          "base_uri": "https://localhost:8080/"
        },
        "id": "uLOrOW0YQZ9w",
        "outputId": "ca239150-b820-465d-821c-2fa5e1571323"
      },
      "execution_count": null,
      "outputs": [
        {
          "output_type": "execute_result",
          "data": {
            "text/plain": [
              "torch.Size([2, 2])"
            ]
          },
          "metadata": {},
          "execution_count": 115
        }
      ]
    },
    {
      "cell_type": "code",
      "source": [
        "# Initialize a tensor of 0s\n",
        "x_zeros = torch.zeros_like(x)\n",
        "x_zeros"
      ],
      "metadata": {
        "colab": {
          "base_uri": "https://localhost:8080/"
        },
        "id": "zXZom0724eXo",
        "outputId": "6e9bb6ed-a371-4430-8443-4602b2d3c047"
      },
      "execution_count": null,
      "outputs": [
        {
          "output_type": "execute_result",
          "data": {
            "text/plain": [
              "tensor([[0., 0.],\n",
              "        [0., 0.]])"
            ]
          },
          "metadata": {},
          "execution_count": 116
        }
      ]
    },
    {
      "cell_type": "code",
      "source": [
        "x_zeros.dtype"
      ],
      "metadata": {
        "colab": {
          "base_uri": "https://localhost:8080/"
        },
        "id": "PuCX1RUTQfE7",
        "outputId": "c69e5f95-18ea-4e8b-fdd4-024902d585d3"
      },
      "execution_count": null,
      "outputs": [
        {
          "output_type": "execute_result",
          "data": {
            "text/plain": [
              "torch.float32"
            ]
          },
          "metadata": {},
          "execution_count": 117
        }
      ]
    },
    {
      "cell_type": "code",
      "source": [
        "x_zeros.shape"
      ],
      "metadata": {
        "colab": {
          "base_uri": "https://localhost:8080/"
        },
        "id": "_kfsYeAhQhKX",
        "outputId": "09a1469e-be99-47ed-86fd-7e82b0585aee"
      },
      "execution_count": null,
      "outputs": [
        {
          "output_type": "execute_result",
          "data": {
            "text/plain": [
              "torch.Size([2, 2])"
            ]
          },
          "metadata": {},
          "execution_count": 118
        }
      ]
    },
    {
      "cell_type": "code",
      "source": [
        "# Initialize a tensor of 1s\n",
        "x_ones = torch.ones_like(x)\n",
        "x_ones"
      ],
      "metadata": {
        "colab": {
          "base_uri": "https://localhost:8080/"
        },
        "id": "AV9o7CB_4fWX",
        "outputId": "57189c4d-5ef2-4356-c28d-a00cbaeaef72"
      },
      "execution_count": null,
      "outputs": [
        {
          "output_type": "execute_result",
          "data": {
            "text/plain": [
              "tensor([[1., 1.],\n",
              "        [1., 1.]])"
            ]
          },
          "metadata": {},
          "execution_count": 119
        }
      ]
    },
    {
      "cell_type": "code",
      "source": [
        "# Initialize a tensor where each element is sampled from a uniform distribution\n",
        "# between 0 and 1\n",
        "x_rand = torch.rand_like(x)\n",
        "x_rand"
      ],
      "metadata": {
        "colab": {
          "base_uri": "https://localhost:8080/"
        },
        "id": "KWYOdcMR4gRS",
        "outputId": "69f2ffcf-5890-4563-8963-1d53c3d50e33"
      },
      "execution_count": null,
      "outputs": [
        {
          "output_type": "execute_result",
          "data": {
            "text/plain": [
              "tensor([[0.4749, 0.6057],\n",
              "        [0.8703, 0.8111]])"
            ]
          },
          "metadata": {},
          "execution_count": 120
        }
      ]
    },
    {
      "cell_type": "code",
      "source": [
        "# Initialize a tensor where each element is sampled from a normal distribution\n",
        "x_randn = torch.randn_like(x)\n",
        "x_randn"
      ],
      "metadata": {
        "colab": {
          "base_uri": "https://localhost:8080/"
        },
        "id": "kUXd_oPj4i8q",
        "outputId": "f5fed61e-c287-412e-edce-d5b7cac3be43"
      },
      "execution_count": null,
      "outputs": [
        {
          "output_type": "execute_result",
          "data": {
            "text/plain": [
              "tensor([[ 0.3906, -0.2053],\n",
              "        [ 1.2877,  0.1631]])"
            ]
          },
          "metadata": {},
          "execution_count": 121
        }
      ]
    },
    {
      "cell_type": "markdown",
      "source": [
        "#### 4. By Specifying a Shape\n",
        "We can also instantiate tensors by specifying their shapes (which we will cover in more detail in a bit). The methods we could use follow the ones in the previous section:\n",
        "\n",
        "- `torch.zeros()`\n",
        "- `torch.ones()`\n",
        "- `torch.rand()`\n",
        "- `torch.randn()`"
      ],
      "metadata": {
        "id": "kKFFKCqN47qk"
      }
    },
    {
      "cell_type": "code",
      "source": [
        "# Initialize a 2x3x2 tensor of 0s\n",
        "shape = (4, 2, 2)\n",
        "x_zeros = torch.zeros(shape) # x_zeros = torch.zeros(4, 3, 2) is an alternative\n",
        "x_zeros"
      ],
      "metadata": {
        "colab": {
          "base_uri": "https://localhost:8080/"
        },
        "id": "fQtcXiIG47gL",
        "outputId": "72a097d4-6a26-4a7d-81ae-91002471a2ea"
      },
      "execution_count": null,
      "outputs": [
        {
          "output_type": "execute_result",
          "data": {
            "text/plain": [
              "tensor([[[0., 0.],\n",
              "         [0., 0.]],\n",
              "\n",
              "        [[0., 0.],\n",
              "         [0., 0.]],\n",
              "\n",
              "        [[0., 0.],\n",
              "         [0., 0.]],\n",
              "\n",
              "        [[0., 0.],\n",
              "         [0., 0.]]])"
            ]
          },
          "metadata": {},
          "execution_count": 31
        }
      ]
    },
    {
      "cell_type": "code",
      "source": [
        "shape = (4, 2, 2)\n",
        "x = torch.ones(shape) # x_zeros = torch.zeros(4, 3, 2) is an alternative\n",
        "x"
      ],
      "metadata": {
        "colab": {
          "base_uri": "https://localhost:8080/"
        },
        "id": "UzhmZIIr4keK",
        "outputId": "d3e6068c-2966-4905-d4b9-b2718e07ed5e"
      },
      "execution_count": null,
      "outputs": [
        {
          "output_type": "execute_result",
          "data": {
            "text/plain": [
              "tensor([[[1., 1.],\n",
              "         [1., 1.]],\n",
              "\n",
              "        [[1., 1.],\n",
              "         [1., 1.]],\n",
              "\n",
              "        [[1., 1.],\n",
              "         [1., 1.]],\n",
              "\n",
              "        [[1., 1.],\n",
              "         [1., 1.]]])"
            ]
          },
          "metadata": {},
          "execution_count": 32
        }
      ]
    },
    {
      "cell_type": "code",
      "source": [
        "shape = (4, 2, 2)\n",
        "x = torch.rand(shape) # x_zeros = torch.zeros(4, 3, 2) is an alternative\n",
        "x"
      ],
      "metadata": {
        "colab": {
          "base_uri": "https://localhost:8080/"
        },
        "id": "2MaMBYHo5Qkc",
        "outputId": "9f793154-4832-4530-a8a8-70409c43592a"
      },
      "execution_count": null,
      "outputs": [
        {
          "output_type": "execute_result",
          "data": {
            "text/plain": [
              "tensor([[[0.2455, 0.5214],\n",
              "         [0.9165, 0.7290]],\n",
              "\n",
              "        [[0.5079, 0.1937],\n",
              "         [0.6339, 0.6172]],\n",
              "\n",
              "        [[0.4171, 0.1056],\n",
              "         [0.1445, 0.1999]],\n",
              "\n",
              "        [[0.9650, 0.3800],\n",
              "         [0.0233, 0.7363]]])"
            ]
          },
          "metadata": {},
          "execution_count": 33
        }
      ]
    },
    {
      "cell_type": "code",
      "source": [
        "shape = (4, 2, 2)\n",
        "x = torch.randn(shape) # x_zeros = torch.zeros(4, 3, 2) is an alternative\n",
        "x"
      ],
      "metadata": {
        "colab": {
          "base_uri": "https://localhost:8080/"
        },
        "id": "X2TEEeP85Psr",
        "outputId": "33e2a02d-6929-417e-d5e1-1c09e1a428f3"
      },
      "execution_count": null,
      "outputs": [
        {
          "output_type": "execute_result",
          "data": {
            "text/plain": [
              "tensor([[[-0.1560, -0.3177],\n",
              "         [-1.5393,  1.4627]],\n",
              "\n",
              "        [[ 1.9593,  0.3254],\n",
              "         [ 0.1983, -1.8595]],\n",
              "\n",
              "        [[-0.8520, -0.7893],\n",
              "         [ 1.4767, -1.2468]],\n",
              "\n",
              "        [[-0.9602,  0.5018],\n",
              "         [-0.0831,  0.0255]]])"
            ]
          },
          "metadata": {},
          "execution_count": 34
        }
      ]
    },
    {
      "cell_type": "markdown",
      "source": [
        "#### 5. With `torch.arange()`\n",
        "We can also create a tensor with `torch.arange(end)`, which returns a 1-D tensor with elements ranging from 0 to end-1. We can use the optional start and step parameters to create tensors with different ranges. \n",
        "\n",
        "Read the documentation for more.!"
      ],
      "metadata": {
        "id": "xdW1ygS15hel"
      }
    },
    {
      "cell_type": "code",
      "source": [
        "# Create a tensor with values 0-9\n",
        "x = torch.arange(10)\n",
        "x"
      ],
      "metadata": {
        "colab": {
          "base_uri": "https://localhost:8080/"
        },
        "id": "4NwFqDEH5d0k",
        "outputId": "301de69a-aa59-4f14-dbf3-a3b7bc3ba506"
      },
      "execution_count": null,
      "outputs": [
        {
          "output_type": "execute_result",
          "data": {
            "text/plain": [
              "tensor([0, 1, 2, 3, 4, 5, 6, 7, 8, 9])"
            ]
          },
          "metadata": {},
          "execution_count": 35
        }
      ]
    },
    {
      "cell_type": "markdown",
      "source": [
        "### What you cannot do?"
      ],
      "metadata": {
        "id": "A0USEpkM6WI1"
      }
    },
    {
      "cell_type": "code",
      "source": [
        "# the dimensions of the tensors have to be uniform.\n",
        "# you CANNOT, define\n",
        "\n",
        "x = [[1,2,3],[4,5]]"
      ],
      "metadata": {
        "id": "qSJ-Ygvt6VHS"
      },
      "execution_count": null,
      "outputs": []
    },
    {
      "cell_type": "code",
      "source": [
        "x = torch.tensor(x)"
      ],
      "metadata": {
        "colab": {
          "base_uri": "https://localhost:8080/",
          "height": 166
        },
        "id": "Ds4sulwQ5yGx",
        "outputId": "281bd066-167a-40ad-9784-f45de3b94957"
      },
      "execution_count": null,
      "outputs": [
        {
          "output_type": "error",
          "ename": "ValueError",
          "evalue": "ignored",
          "traceback": [
            "\u001b[0;31m---------------------------------------------------------------------------\u001b[0m",
            "\u001b[0;31mValueError\u001b[0m                                Traceback (most recent call last)",
            "\u001b[0;32m<ipython-input-37-2f1c8f56e0c4>\u001b[0m in \u001b[0;36m<module>\u001b[0;34m()\u001b[0m\n\u001b[0;32m----> 1\u001b[0;31m \u001b[0mx\u001b[0m \u001b[0;34m=\u001b[0m \u001b[0mtorch\u001b[0m\u001b[0;34m.\u001b[0m\u001b[0mtensor\u001b[0m\u001b[0;34m(\u001b[0m\u001b[0mx\u001b[0m\u001b[0;34m)\u001b[0m\u001b[0;34m\u001b[0m\u001b[0;34m\u001b[0m\u001b[0m\n\u001b[0m",
            "\u001b[0;31mValueError\u001b[0m: expected sequence of length 3 at dim 1 (got 2)"
          ]
        }
      ]
    },
    {
      "cell_type": "markdown",
      "source": [
        "### Tensor Properties\n",
        "Tensors have a few properties that are important for us to cover. These are namely `dtype`, `shape`, and the `device` properties."
      ],
      "metadata": {
        "id": "kbF3b2P36-hk"
      }
    },
    {
      "cell_type": "markdown",
      "source": [
        "We have seen the `dtype` and `shape` properties. Let's see the `device` property."
      ],
      "metadata": {
        "id": "m5fqKgUV7Ha-"
      }
    },
    {
      "cell_type": "code",
      "source": [
        "x = torch.randn(size=(2,3))"
      ],
      "metadata": {
        "id": "4RG_JDis6q2C"
      },
      "execution_count": null,
      "outputs": []
    },
    {
      "cell_type": "code",
      "source": [
        "x"
      ],
      "metadata": {
        "colab": {
          "base_uri": "https://localhost:8080/"
        },
        "id": "uH-_Mny67e54",
        "outputId": "f0101b50-f3db-44e9-9ec5-4c2b3aa0d526"
      },
      "execution_count": null,
      "outputs": [
        {
          "output_type": "execute_result",
          "data": {
            "text/plain": [
              "tensor([[ 0.1174,  1.1425, -0.4018],\n",
              "        [-0.9724, -1.5218, -0.9902]])"
            ]
          },
          "metadata": {},
          "execution_count": 39
        }
      ]
    },
    {
      "cell_type": "code",
      "source": [
        "x.shape"
      ],
      "metadata": {
        "colab": {
          "base_uri": "https://localhost:8080/"
        },
        "id": "VX-awBfQ7iAi",
        "outputId": "057d0287-40a3-457a-afbf-d575667cca89"
      },
      "execution_count": null,
      "outputs": [
        {
          "output_type": "execute_result",
          "data": {
            "text/plain": [
              "torch.Size([2, 3])"
            ]
          },
          "metadata": {},
          "execution_count": 40
        }
      ]
    },
    {
      "cell_type": "code",
      "source": [
        "x.dtype"
      ],
      "metadata": {
        "colab": {
          "base_uri": "https://localhost:8080/"
        },
        "id": "PzSBtKn47ib3",
        "outputId": "942afef3-e154-4849-c61a-402f2033e3d6"
      },
      "execution_count": null,
      "outputs": [
        {
          "output_type": "execute_result",
          "data": {
            "text/plain": [
              "torch.float32"
            ]
          },
          "metadata": {},
          "execution_count": 41
        }
      ]
    },
    {
      "cell_type": "code",
      "source": [
        "x.device"
      ],
      "metadata": {
        "colab": {
          "base_uri": "https://localhost:8080/"
        },
        "id": "ZmzovDmr7jMX",
        "outputId": "ae0e3b18-927a-432b-95cb-c7285b672b99"
      },
      "execution_count": null,
      "outputs": [
        {
          "output_type": "execute_result",
          "data": {
            "text/plain": [
              "device(type='cpu')"
            ]
          },
          "metadata": {},
          "execution_count": 42
        }
      ]
    },
    {
      "cell_type": "code",
      "source": [
        "# change run time and shift to gpu.\n",
        "if torch.cuda.is_available():\n",
        "  print(\"Got a CUDA device\")\n",
        "  x = x.to('cuda') "
      ],
      "metadata": {
        "id": "h0E2WkpY7j5u",
        "colab": {
          "base_uri": "https://localhost:8080/"
        },
        "outputId": "11f6e9d8-1c12-4ad3-fc63-6db3fd4b2eaf"
      },
      "execution_count": null,
      "outputs": [
        {
          "output_type": "stream",
          "name": "stdout",
          "text": [
            "Got a CUDA device\n"
          ]
        }
      ]
    },
    {
      "cell_type": "code",
      "source": [
        "x.device"
      ],
      "metadata": {
        "colab": {
          "base_uri": "https://localhost:8080/"
        },
        "id": "PcCecSbeRfSg",
        "outputId": "277d06e1-b20b-4a87-9f6d-3d0f67771555"
      },
      "execution_count": null,
      "outputs": [
        {
          "output_type": "execute_result",
          "data": {
            "text/plain": [
              "device(type='cuda', index=0)"
            ]
          },
          "metadata": {},
          "execution_count": 48
        }
      ]
    },
    {
      "cell_type": "markdown",
      "source": [
        "#### Shape Values"
      ],
      "metadata": {
        "id": "CPR_geEb75Yf"
      }
    },
    {
      "cell_type": "code",
      "source": [
        "# hide these cells\n",
        "shape1 = (1)\n",
        "shape12 = (4)\n",
        "shape2 = (2,3)\n",
        "shape3 = (2,3,5)"
      ],
      "metadata": {
        "id": "72iYsrHY79sB"
      },
      "execution_count": null,
      "outputs": []
    },
    {
      "cell_type": "markdown",
      "source": [
        "#### determining shape"
      ],
      "metadata": {
        "id": "wNssKgGT8KDv"
      }
    },
    {
      "cell_type": "code",
      "source": [
        "# shape -- you can determine the shape, if you go from the outermost dimensions to inner most dimension.\n",
        "\n",
        "x = torch.randn(shape1)"
      ],
      "metadata": {
        "id": "mOG_vgdQ7s6s"
      },
      "execution_count": null,
      "outputs": []
    },
    {
      "cell_type": "code",
      "source": [
        "x"
      ],
      "metadata": {
        "colab": {
          "base_uri": "https://localhost:8080/"
        },
        "id": "EwhH2Gli8U3g",
        "outputId": "401dd90d-b1d6-406f-a83f-64e35b628c59"
      },
      "execution_count": null,
      "outputs": [
        {
          "output_type": "execute_result",
          "data": {
            "text/plain": [
              "tensor([-0.6860])"
            ]
          },
          "metadata": {},
          "execution_count": 51
        }
      ]
    },
    {
      "cell_type": "code",
      "source": [
        "x = torch.randn(shape12)"
      ],
      "metadata": {
        "id": "CePwPfaq8VQt"
      },
      "execution_count": null,
      "outputs": []
    },
    {
      "cell_type": "code",
      "source": [
        "x"
      ],
      "metadata": {
        "colab": {
          "base_uri": "https://localhost:8080/"
        },
        "id": "QBjwiap28btc",
        "outputId": "3d088fb4-1e1f-4366-ca60-3c7b3ac9661a"
      },
      "execution_count": null,
      "outputs": [
        {
          "output_type": "execute_result",
          "data": {
            "text/plain": [
              "tensor([ 0.3179, -0.7171,  0.1156, -1.0228])"
            ]
          },
          "metadata": {},
          "execution_count": 53
        }
      ]
    },
    {
      "cell_type": "code",
      "source": [
        "#x.shape"
      ],
      "metadata": {
        "id": "dzAg0XIw8ebg"
      },
      "execution_count": null,
      "outputs": []
    },
    {
      "cell_type": "code",
      "source": [
        "x = torch.randn(shape2)"
      ],
      "metadata": {
        "id": "ck-8xaFu8gCY"
      },
      "execution_count": null,
      "outputs": []
    },
    {
      "cell_type": "code",
      "source": [
        "x"
      ],
      "metadata": {
        "colab": {
          "base_uri": "https://localhost:8080/"
        },
        "id": "KWdsJuOi8ilw",
        "outputId": "4d1f2475-5805-4afe-cd1f-1420fa0cac88"
      },
      "execution_count": null,
      "outputs": [
        {
          "output_type": "execute_result",
          "data": {
            "text/plain": [
              "tensor([[-1.2459, -0.9572, -0.3870],\n",
              "        [ 0.4503,  0.5461, -1.6117]])"
            ]
          },
          "metadata": {},
          "execution_count": 56
        }
      ]
    },
    {
      "cell_type": "code",
      "source": [
        "x = torch.randn(shape3)\n",
        "x"
      ],
      "metadata": {
        "colab": {
          "base_uri": "https://localhost:8080/"
        },
        "id": "QT6jCGUv8l5m",
        "outputId": "46953158-86fd-405b-a799-8ce7e8f6a318"
      },
      "execution_count": null,
      "outputs": [
        {
          "output_type": "execute_result",
          "data": {
            "text/plain": [
              "tensor([[[-0.5385, -0.2254,  0.0057, -0.8902,  0.4071],\n",
              "         [-0.1815,  1.5489,  1.3368,  0.6548, -0.9248],\n",
              "         [ 1.2217,  0.0640, -0.8949,  1.4406, -0.2800]],\n",
              "\n",
              "        [[ 0.0112,  0.9876, -0.6032,  0.0857,  0.5904],\n",
              "         [-0.4381, -0.8598, -1.1076, -0.8448, -0.1673],\n",
              "         [ 0.5297,  0.0592,  0.5812,  2.1803, -1.7110]]])"
            ]
          },
          "metadata": {},
          "execution_count": 57
        }
      ]
    },
    {
      "cell_type": "code",
      "source": [
        "# size of each dimension.\n",
        "dims = len(x.shape)"
      ],
      "metadata": {
        "id": "B9Y37IiM8qi5"
      },
      "execution_count": null,
      "outputs": []
    },
    {
      "cell_type": "code",
      "source": [
        "x.shape"
      ],
      "metadata": {
        "colab": {
          "base_uri": "https://localhost:8080/"
        },
        "id": "N42r19fqSBVw",
        "outputId": "2a849443-3b10-4f95-f3ef-d8376037eaa6"
      },
      "execution_count": null,
      "outputs": [
        {
          "output_type": "execute_result",
          "data": {
            "text/plain": [
              "torch.Size([2, 3, 5])"
            ]
          },
          "metadata": {},
          "execution_count": 61
        }
      ]
    },
    {
      "cell_type": "code",
      "source": [
        ""
      ],
      "metadata": {
        "id": "W6eB1-1XSA0Q"
      },
      "execution_count": null,
      "outputs": []
    },
    {
      "cell_type": "code",
      "source": [
        "dims"
      ],
      "metadata": {
        "colab": {
          "base_uri": "https://localhost:8080/"
        },
        "id": "oLlTkPsp83TZ",
        "outputId": "a9b82480-46ca-4c1f-a849-c1e565ee0b63"
      },
      "execution_count": null,
      "outputs": [
        {
          "output_type": "execute_result",
          "data": {
            "text/plain": [
              "3"
            ]
          },
          "metadata": {},
          "execution_count": 59
        }
      ]
    },
    {
      "cell_type": "code",
      "source": [
        "x.size(0)"
      ],
      "metadata": {
        "colab": {
          "base_uri": "https://localhost:8080/"
        },
        "id": "rqJicAMH84BI",
        "outputId": "e072fe5b-1993-4304-b084-617120edbc13"
      },
      "execution_count": null,
      "outputs": [
        {
          "output_type": "execute_result",
          "data": {
            "text/plain": [
              "2"
            ]
          },
          "metadata": {},
          "execution_count": 60
        }
      ]
    },
    {
      "cell_type": "code",
      "source": [
        "x.size(1)"
      ],
      "metadata": {
        "colab": {
          "base_uri": "https://localhost:8080/"
        },
        "id": "v07nl498869l",
        "outputId": "1f6cc60e-f89c-4312-bce4-138574c0eff8"
      },
      "execution_count": null,
      "outputs": [
        {
          "output_type": "execute_result",
          "data": {
            "text/plain": [
              "3"
            ]
          },
          "metadata": {},
          "execution_count": 92
        }
      ]
    },
    {
      "cell_type": "code",
      "source": [
        "x.size(2)"
      ],
      "metadata": {
        "colab": {
          "base_uri": "https://localhost:8080/"
        },
        "id": "7OsC8Z9Q870t",
        "outputId": "ee463bdc-4590-493e-da12-8cbbabce0994"
      },
      "execution_count": null,
      "outputs": [
        {
          "output_type": "execute_result",
          "data": {
            "text/plain": [
              "5"
            ]
          },
          "metadata": {},
          "execution_count": 93
        }
      ]
    },
    {
      "cell_type": "markdown",
      "source": [
        "### `tensor.reshape()` "
      ],
      "metadata": {
        "id": "kbLBQx5T8_IT"
      }
    },
    {
      "cell_type": "code",
      "source": [
        "\n",
        "x = torch.randn((155))"
      ],
      "metadata": {
        "id": "yA5-OgGK9CGc"
      },
      "execution_count": null,
      "outputs": []
    },
    {
      "cell_type": "code",
      "source": [
        "x"
      ],
      "metadata": {
        "colab": {
          "base_uri": "https://localhost:8080/"
        },
        "id": "TnP1x_pWSKBD",
        "outputId": "4fc73b85-09bb-4530-ed05-cdb5eba37042"
      },
      "execution_count": null,
      "outputs": [
        {
          "output_type": "execute_result",
          "data": {
            "text/plain": [
              "tensor([-0.8982,  0.3541,  0.6604,  0.5009, -0.1083, -0.3851, -1.7990, -0.7907,\n",
              "        -1.8495, -0.5345,  0.3196,  1.5039])"
            ]
          },
          "metadata": {},
          "execution_count": 63
        }
      ]
    },
    {
      "cell_type": "code",
      "source": [
        "x.reshape(2,6)"
      ],
      "metadata": {
        "colab": {
          "base_uri": "https://localhost:8080/"
        },
        "id": "knVCbClb88zB",
        "outputId": "6ca4d6a3-dc0c-4fdc-c74e-b33e1e05fdc6"
      },
      "execution_count": null,
      "outputs": [
        {
          "output_type": "execute_result",
          "data": {
            "text/plain": [
              "tensor([[-0.8982,  0.3541,  0.6604,  0.5009, -0.1083, -0.3851],\n",
              "        [-1.7990, -0.7907, -1.8495, -0.5345,  0.3196,  1.5039]])"
            ]
          },
          "metadata": {},
          "execution_count": 64
        }
      ]
    },
    {
      "cell_type": "code",
      "source": [
        "x.reshape(5,-1)"
      ],
      "metadata": {
        "colab": {
          "base_uri": "https://localhost:8080/"
        },
        "id": "JvSUngFY9cqV",
        "outputId": "472f9cf1-a19e-4f84-acff-571c6390e70c"
      },
      "execution_count": null,
      "outputs": [
        {
          "output_type": "execute_result",
          "data": {
            "text/plain": [
              "tensor([[-0.3621,  0.9109,  0.6584, -1.2500,  1.5489, -0.9120, -1.1807,  0.2433,\n",
              "          0.4927,  1.1922,  1.3708, -0.8062, -0.4534, -0.7589,  0.1743, -0.3907,\n",
              "         -0.3085, -0.4110,  0.0082, -0.5992,  1.1541, -1.1078,  0.0622, -1.1797,\n",
              "          0.2211, -0.1570, -0.2956,  2.4717,  0.5887,  2.3555, -0.5770],\n",
              "        [ 0.9688, -0.1223, -0.3303, -0.1007, -2.5454, -1.3075, -1.0068,  1.0892,\n",
              "         -0.7563, -1.5089, -0.3021, -0.4362,  0.5278,  0.2542, -0.1601,  0.0227,\n",
              "         -0.4220, -1.0283, -0.3224, -0.9727, -1.3117, -0.3555, -0.1943,  0.3302,\n",
              "          0.8775, -1.4098, -0.9370, -0.1304, -0.0766,  0.1323, -1.5051],\n",
              "        [-1.8275, -0.9748, -0.9021, -0.8901, -0.5582, -0.7783,  0.2113, -0.9340,\n",
              "         -0.0612, -0.3427,  1.3981,  0.7000,  0.5418, -2.3647,  0.1408,  0.4784,\n",
              "         -0.4502, -1.1270, -0.2659, -1.8643, -1.1140,  0.3646, -1.1609,  0.8316,\n",
              "          2.3889, -1.1783,  0.4914,  0.1187, -1.1433,  0.7257, -1.1227],\n",
              "        [-0.0502, -0.5351,  1.3842,  0.4397,  0.4220, -1.3795, -0.4693,  1.4226,\n",
              "          1.7673, -0.4301,  0.1632, -0.3041, -2.4473, -0.9399, -1.1415, -1.0033,\n",
              "         -1.2154,  0.3916,  0.3573, -1.1671, -1.2076, -2.2953,  0.3625, -0.8702,\n",
              "         -0.6348,  1.0906,  1.4688,  0.5520,  0.0647, -1.6770, -1.5409],\n",
              "        [-0.8395, -0.6727,  0.7485, -1.0840, -0.0245,  1.1821, -1.6036,  0.5028,\n",
              "          0.3328,  0.2062,  0.0045, -0.6869, -0.8241, -0.1554, -1.8813, -0.6147,\n",
              "         -0.4960, -1.1887, -0.2637,  1.4227,  1.7245,  0.1569,  1.1092, -2.1563,\n",
              "          0.6483,  0.7391, -0.8809, -0.1387, -0.5623, -0.1391,  0.5750]])"
            ]
          },
          "metadata": {},
          "execution_count": 66
        }
      ]
    },
    {
      "cell_type": "markdown",
      "source": [
        "### Torch Indexing\n",
        "\n",
        "In PyTorch we can index tensors, similar to NumPy.\n",
        "\n"
      ],
      "metadata": {
        "id": "D8IkqohH-GYt"
      }
    },
    {
      "cell_type": "code",
      "source": [
        "# Initialize an example tensor\n",
        "x = torch.Tensor([\n",
        "                  [[1, 2], [3, 4]],\n",
        "                  [[5, 6], [7, 8]], \n",
        "                  [[9, 10], [11, 12]] \n",
        "                 ])\n",
        "x"
      ],
      "metadata": {
        "colab": {
          "base_uri": "https://localhost:8080/"
        },
        "id": "7L0SoutE9dcJ",
        "outputId": "0cbf33a8-0f05-4e5e-b43d-81840f454ed4"
      },
      "execution_count": null,
      "outputs": [
        {
          "output_type": "execute_result",
          "data": {
            "text/plain": [
              "tensor([[[ 1.,  2.],\n",
              "         [ 3.,  4.]],\n",
              "\n",
              "        [[ 5.,  6.],\n",
              "         [ 7.,  8.]],\n",
              "\n",
              "        [[ 9., 10.],\n",
              "         [11., 12.]]])"
            ]
          },
          "metadata": {},
          "execution_count": 67
        }
      ]
    },
    {
      "cell_type": "code",
      "source": [
        "# Access the 0th element, which is the first row\n",
        "x[0] # Equivalent to x[0, :]"
      ],
      "metadata": {
        "colab": {
          "base_uri": "https://localhost:8080/"
        },
        "id": "CH3GqMcv-LHH",
        "outputId": "ee686b12-745e-4c3d-d0bd-73726514fe15"
      },
      "execution_count": null,
      "outputs": [
        {
          "output_type": "execute_result",
          "data": {
            "text/plain": [
              "tensor([[1., 2.],\n",
              "        [3., 4.]])"
            ]
          },
          "metadata": {},
          "execution_count": 68
        }
      ]
    },
    {
      "cell_type": "code",
      "source": [
        "# Get the top left element of each element in our tensor\n",
        "x[:, 0, 0]\n"
      ],
      "metadata": {
        "colab": {
          "base_uri": "https://localhost:8080/"
        },
        "id": "xJBkyF7D-fFK",
        "outputId": "42d3dd71-a17c-4e58-c18e-0b53e0a185af"
      },
      "execution_count": null,
      "outputs": [
        {
          "output_type": "execute_result",
          "data": {
            "text/plain": [
              "tensor([1., 5., 9.])"
            ]
          },
          "metadata": {},
          "execution_count": 110
        }
      ]
    },
    {
      "cell_type": "code",
      "source": [
        "x[1,1,1]"
      ],
      "metadata": {
        "colab": {
          "base_uri": "https://localhost:8080/"
        },
        "id": "Nlg88L5N-ijG",
        "outputId": "96010eef-6970-4815-9927-b73705dd78b8"
      },
      "execution_count": null,
      "outputs": [
        {
          "output_type": "execute_result",
          "data": {
            "text/plain": [
              "tensor(8.)"
            ]
          },
          "metadata": {},
          "execution_count": 69
        }
      ]
    },
    {
      "cell_type": "markdown",
      "source": [
        "### Operations!"
      ],
      "metadata": {
        "id": "iTOIe2iU-1Ba"
      }
    },
    {
      "cell_type": "code",
      "source": [
        "# Create an example tensor\n",
        "x = torch.ones((3,2,2))\n",
        "x"
      ],
      "metadata": {
        "colab": {
          "base_uri": "https://localhost:8080/"
        },
        "id": "ogHWPrCh-0XZ",
        "outputId": "e5878de5-ae31-44d5-9c49-8d051a2c673b"
      },
      "execution_count": null,
      "outputs": [
        {
          "output_type": "execute_result",
          "data": {
            "text/plain": [
              "tensor([[[1., 1.],\n",
              "         [1., 1.]],\n",
              "\n",
              "        [[1., 1.],\n",
              "         [1., 1.]],\n",
              "\n",
              "        [[1., 1.],\n",
              "         [1., 1.]]])"
            ]
          },
          "metadata": {},
          "execution_count": 70
        }
      ]
    },
    {
      "cell_type": "code",
      "source": [
        "# Perform elementwise addition\n",
        "# Use - for subtraction\n",
        "x + 2"
      ],
      "metadata": {
        "colab": {
          "base_uri": "https://localhost:8080/"
        },
        "id": "C5Mpmo0C-zoH",
        "outputId": "6660d6bc-1529-4f7d-8069-efecf9bc206d"
      },
      "execution_count": null,
      "outputs": [
        {
          "output_type": "execute_result",
          "data": {
            "text/plain": [
              "tensor([[[3., 3.],\n",
              "         [3., 3.]],\n",
              "\n",
              "        [[3., 3.],\n",
              "         [3., 3.]],\n",
              "\n",
              "        [[3., 3.],\n",
              "         [3., 3.]]])"
            ]
          },
          "metadata": {},
          "execution_count": 113
        }
      ]
    },
    {
      "cell_type": "code",
      "source": [
        "# Perform elementwise multiplication\n",
        "# Use / for division\n",
        "x * 2"
      ],
      "metadata": {
        "colab": {
          "base_uri": "https://localhost:8080/"
        },
        "id": "aCoINMVm-8t-",
        "outputId": "945cea12-2b71-4dcb-bca9-6c72f28f6398"
      },
      "execution_count": null,
      "outputs": [
        {
          "output_type": "execute_result",
          "data": {
            "text/plain": [
              "tensor([[[2., 2.],\n",
              "         [2., 2.]],\n",
              "\n",
              "        [[2., 2.],\n",
              "         [2., 2.]],\n",
              "\n",
              "        [[2., 2.],\n",
              "         [2., 2.]]])"
            ]
          },
          "metadata": {},
          "execution_count": 71
        }
      ]
    },
    {
      "cell_type": "markdown",
      "source": [
        "We can apply the same operations between different tensors of compatible sizes.\n",
        "\n"
      ],
      "metadata": {
        "id": "Vrnv0HvB_DJL"
      }
    },
    {
      "cell_type": "code",
      "source": [
        "# Create a 4x3 tensor of 6s\n",
        "a = torch.ones((4,3)) * 6\n",
        "a"
      ],
      "metadata": {
        "colab": {
          "base_uri": "https://localhost:8080/"
        },
        "id": "Nra1ixpi--YS",
        "outputId": "e3efc1f4-50ee-454b-996f-ad37a3bee27d"
      },
      "execution_count": null,
      "outputs": [
        {
          "output_type": "execute_result",
          "data": {
            "text/plain": [
              "tensor([[6., 6., 6.],\n",
              "        [6., 6., 6.],\n",
              "        [6., 6., 6.],\n",
              "        [6., 6., 6.]])"
            ]
          },
          "metadata": {},
          "execution_count": 72
        }
      ]
    },
    {
      "cell_type": "code",
      "source": [
        "# Create a 1D tensor of 2s\n",
        "b = torch.ones(3) * 2\n",
        "b"
      ],
      "metadata": {
        "colab": {
          "base_uri": "https://localhost:8080/"
        },
        "id": "w6J7yC9C_EjA",
        "outputId": "55c4b650-e283-4be5-a29b-8c58868bd905"
      },
      "execution_count": null,
      "outputs": [
        {
          "output_type": "execute_result",
          "data": {
            "text/plain": [
              "tensor([2., 2., 2.])"
            ]
          },
          "metadata": {},
          "execution_count": 73
        }
      ]
    },
    {
      "cell_type": "code",
      "source": [
        "# Divide a by b\n",
        "a / b\n"
      ],
      "metadata": {
        "colab": {
          "base_uri": "https://localhost:8080/"
        },
        "id": "w5312rFp_FdK",
        "outputId": "c20b229e-a32c-458c-f944-8e47d031b9bc"
      },
      "execution_count": null,
      "outputs": [
        {
          "output_type": "execute_result",
          "data": {
            "text/plain": [
              "tensor([[3., 3., 3.],\n",
              "        [3., 3., 3.],\n",
              "        [3., 3., 3.],\n",
              "        [3., 3., 3.]])"
            ]
          },
          "metadata": {},
          "execution_count": 74
        }
      ]
    },
    {
      "cell_type": "markdown",
      "source": [
        "We can use `tensor.matmul(other_tensor)` for matrix multiplication and `tensor.T` for transpose. Matrix multiplication can also be performed with `@`."
      ],
      "metadata": {
        "id": "63NX95tZ_MLx"
      }
    },
    {
      "cell_type": "code",
      "source": [
        "# Alternative to a.matmul(b)\n",
        "# a @ b.T returns the same result since b is 1D tensor and the 2nd dimension\n",
        "# is inferred\n",
        "a @ b "
      ],
      "metadata": {
        "colab": {
          "base_uri": "https://localhost:8080/"
        },
        "id": "NinVSp8N_KiR",
        "outputId": "6b4e5ab6-9df4-4530-a20f-0f79ab6f6cd3"
      },
      "execution_count": null,
      "outputs": [
        {
          "output_type": "execute_result",
          "data": {
            "text/plain": [
              "tensor([36., 36., 36., 36.])"
            ]
          },
          "metadata": {},
          "execution_count": 76
        }
      ]
    },
    {
      "cell_type": "markdown",
      "source": [
        "There are other interesting functions - `torch.mean()`, `torch.sum()` etc. etc,. you can check them at your own time."
      ],
      "metadata": {
        "id": "gAuaOsIQ__G_"
      }
    },
    {
      "cell_type": "code",
      "source": [
        "# define a tensor of shape (4,3) with all ones, and find mean and sum along dimensions 0 and 1"
      ],
      "metadata": {
        "id": "ldSyHraWTjVv"
      },
      "execution_count": null,
      "outputs": []
    },
    {
      "cell_type": "markdown",
      "source": [
        "**Note:** Most of the operations in PyTorch are not in place. However, PyTorch offers the in place versions of operations available by adding an underscore (_) at the end of the method name.\n",
        "\n",
        "What do I mean by this?"
      ],
      "metadata": {
        "id": "U_Wwf17FAMBb"
      }
    },
    {
      "cell_type": "code",
      "source": [
        "# Print our tensor\n",
        "a"
      ],
      "metadata": {
        "colab": {
          "base_uri": "https://localhost:8080/"
        },
        "id": "xC-LwqHG_Jdz",
        "outputId": "fbb8c7af-cd66-4f71-92b7-9c9405f3e384"
      },
      "execution_count": null,
      "outputs": [
        {
          "output_type": "execute_result",
          "data": {
            "text/plain": [
              "tensor([[6., 6., 6.],\n",
              "        [6., 6., 6.],\n",
              "        [6., 6., 6.],\n",
              "        [6., 6., 6.]])"
            ]
          },
          "metadata": {},
          "execution_count": 119
        }
      ]
    },
    {
      "cell_type": "code",
      "source": [
        "# add() is not in place\n",
        "a.add(a)"
      ],
      "metadata": {
        "colab": {
          "base_uri": "https://localhost:8080/"
        },
        "id": "smg-EmwoAQol",
        "outputId": "23290883-8a5a-4dd7-fd80-0836c6063895"
      },
      "execution_count": null,
      "outputs": [
        {
          "output_type": "execute_result",
          "data": {
            "text/plain": [
              "tensor([[12., 12., 12.],\n",
              "        [12., 12., 12.],\n",
              "        [12., 12., 12.],\n",
              "        [12., 12., 12.]])"
            ]
          },
          "metadata": {},
          "execution_count": 77
        }
      ]
    },
    {
      "cell_type": "code",
      "source": [
        "a"
      ],
      "metadata": {
        "colab": {
          "base_uri": "https://localhost:8080/"
        },
        "id": "oFQoGkX0Tz_c",
        "outputId": "1023fd8b-ee34-4afc-f7e9-8d6ee84a4beb"
      },
      "execution_count": null,
      "outputs": [
        {
          "output_type": "execute_result",
          "data": {
            "text/plain": [
              "tensor([[6., 6., 6.],\n",
              "        [6., 6., 6.],\n",
              "        [6., 6., 6.],\n",
              "        [6., 6., 6.]])"
            ]
          },
          "metadata": {},
          "execution_count": 78
        }
      ]
    },
    {
      "cell_type": "code",
      "source": [
        "# add_() is in place\n",
        "a.add_(a)\n",
        "a\n"
      ],
      "metadata": {
        "colab": {
          "base_uri": "https://localhost:8080/"
        },
        "id": "3XGNeQDdARpR",
        "outputId": "c1be4e66-a439-4585-cfe6-e1d9a8c124a4"
      },
      "execution_count": null,
      "outputs": [
        {
          "output_type": "execute_result",
          "data": {
            "text/plain": [
              "tensor([[12., 12., 12.],\n",
              "        [12., 12., 12.],\n",
              "        [12., 12., 12.],\n",
              "        [12., 12., 12.]])"
            ]
          },
          "metadata": {},
          "execution_count": 79
        }
      ]
    },
    {
      "cell_type": "markdown",
      "source": [
        "## Autograd!\n",
        "\n",
        "`PyTorch` and other machine learning libraries are known for their **automatic differantiation** feature. \n",
        "\n",
        "That is, given that we have defined the set of operations that need to be performed, the framework itself can figure out how to compute the gradients. \n",
        "\n",
        "We can call the `backward()` method to ask PyTorch to calculate the gradiends, which are then stored in the `.grad` attribute."
      ],
      "metadata": {
        "id": "i9doSGaZAkjU"
      }
    },
    {
      "cell_type": "code",
      "source": [
        "# tensor has the following properties\n",
        "# dtype\n",
        "# shape\n",
        "# data itself.\n",
        "# device\n"
      ],
      "metadata": {
        "id": "b1wh4KdTUBQC"
      },
      "execution_count": null,
      "outputs": []
    },
    {
      "cell_type": "code",
      "source": [
        "# Create an example tensor\n",
        "# requires_grad parameter tells PyTorch to store gradients\n",
        "# by default it's false.\n",
        "x = torch.tensor([2.], requires_grad=True)"
      ],
      "metadata": {
        "id": "bamkDKXjAUDM"
      },
      "execution_count": null,
      "outputs": []
    },
    {
      "cell_type": "code",
      "source": [
        "x"
      ],
      "metadata": {
        "colab": {
          "base_uri": "https://localhost:8080/"
        },
        "id": "vABwSJN7UYjt",
        "outputId": "6636908b-f000-4251-f78e-0402ca376715"
      },
      "execution_count": null,
      "outputs": [
        {
          "output_type": "execute_result",
          "data": {
            "text/plain": [
              "tensor([2.], requires_grad=True)"
            ]
          },
          "metadata": {},
          "execution_count": 83
        }
      ]
    },
    {
      "cell_type": "code",
      "source": [
        "x.grad"
      ],
      "metadata": {
        "id": "hKLVisEvA2IF"
      },
      "execution_count": null,
      "outputs": []
    },
    {
      "cell_type": "code",
      "source": [
        "print(x.grad)"
      ],
      "metadata": {
        "colab": {
          "base_uri": "https://localhost:8080/"
        },
        "id": "9eNla5feUVxy",
        "outputId": "f419aaae-c526-43ee-c4f6-9f1969dc0b0b"
      },
      "execution_count": null,
      "outputs": [
        {
          "output_type": "stream",
          "name": "stdout",
          "text": [
            "None\n"
          ]
        }
      ]
    },
    {
      "cell_type": "code",
      "source": [
        "# Calculating the gradient of y with respect to x\n",
        "y = x * x * 3 # 3x^2\n",
        "y.backward()\n",
        "# d(y)/d(x) = d(3x^2)/d(x) = 6x = 12"
      ],
      "metadata": {
        "id": "c4KSXDeYA6fM"
      },
      "execution_count": null,
      "outputs": []
    },
    {
      "cell_type": "code",
      "source": [
        "x.grad"
      ],
      "metadata": {
        "colab": {
          "base_uri": "https://localhost:8080/"
        },
        "id": "vQj1PM4PA75c",
        "outputId": "5eb7b02e-9c62-438b-f697-7acaa738a793"
      },
      "execution_count": null,
      "outputs": [
        {
          "output_type": "execute_result",
          "data": {
            "text/plain": [
              "tensor([12.])"
            ]
          },
          "metadata": {},
          "execution_count": 85
        }
      ]
    },
    {
      "cell_type": "markdown",
      "source": [
        "Let's run backprop from a different tensor again to see what happens."
      ],
      "metadata": {
        "id": "bE0V-SLgBUIC"
      }
    },
    {
      "cell_type": "code",
      "source": [
        "z = x * x * 3 # 3x^2\n",
        "z.backward()\n",
        "x.grad"
      ],
      "metadata": {
        "colab": {
          "base_uri": "https://localhost:8080/"
        },
        "id": "z6_8k0GsBJZc",
        "outputId": "cc672668-2822-41af-ff52-17fbdd9fd237"
      },
      "execution_count": null,
      "outputs": [
        {
          "output_type": "execute_result",
          "data": {
            "text/plain": [
              "tensor([24.])"
            ]
          },
          "metadata": {},
          "execution_count": 86
        }
      ]
    },
    {
      "cell_type": "markdown",
      "source": [
        "Gradients are accumulating! May not be\n",
        " desirable. Remember this! We will see how to deal with this in the later stage."
      ],
      "metadata": {
        "id": "ydINUomhBcbl"
      }
    },
    {
      "cell_type": "markdown",
      "source": [
        "It's time to revise what has been taught. Go read through all the cells. "
      ],
      "metadata": {
        "id": "Plz-YHVXCSC6"
      }
    },
    {
      "cell_type": "markdown",
      "source": [
        "Quickly:\n",
        "\n",
        "1. Create a 2D list with 4 rows and 2 cols and then convert it into a tensor.\n",
        "2. Create a tensor using the torch.zeros_like() function - from another tensor.\n",
        "3. Initialize tensors x,y of 1 dimension , x has value 2, y has value 3, define c = x*y. Compute gradient of c w.r.t to both x and y.\n",
        "\n",
        "4. torch.sum -- dimension"
      ],
      "metadata": {
        "id": "7VdHKmIiCidc"
      }
    },
    {
      "cell_type": "code",
      "source": [
        "x = torch.tensor([2.],requires_grad=True)\n",
        "y = torch.tensor([3.],requires_grad=True)\n",
        "c = x*y\n",
        "c.backward()"
      ],
      "metadata": {
        "id": "kLV__wEWVfNi"
      },
      "execution_count": null,
      "outputs": []
    },
    {
      "cell_type": "code",
      "source": [
        "x.grad"
      ],
      "metadata": {
        "id": "zjMos3saWLcj",
        "outputId": "e9b0a82b-8768-43c4-e690-9100de0ceaa7",
        "colab": {
          "base_uri": "https://localhost:8080/"
        }
      },
      "execution_count": null,
      "outputs": [
        {
          "output_type": "execute_result",
          "data": {
            "text/plain": [
              "tensor([3.])"
            ]
          },
          "metadata": {},
          "execution_count": 89
        }
      ]
    },
    {
      "cell_type": "code",
      "source": [
        "y.grad"
      ],
      "metadata": {
        "id": "3aYSRIBCWN8V",
        "outputId": "f566373d-4d91-4f5a-ef90-261409284a69",
        "colab": {
          "base_uri": "https://localhost:8080/"
        }
      },
      "execution_count": null,
      "outputs": [
        {
          "output_type": "execute_result",
          "data": {
            "text/plain": [
              "tensor([2.])"
            ]
          },
          "metadata": {},
          "execution_count": 90
        }
      ]
    },
    {
      "cell_type": "markdown",
      "source": [
        "# Neural Networks!"
      ],
      "metadata": {
        "id": "tItNM92mDWRk"
      }
    },
    {
      "cell_type": "markdown",
      "source": [
        "check documentation."
      ],
      "metadata": {
        "id": "hh_A8MvvD3Ux"
      }
    },
    {
      "cell_type": "markdown",
      "source": [
        "Introduction to the `nn` module."
      ],
      "metadata": {
        "id": "EtLjHThEEMCf"
      }
    },
    {
      "cell_type": "markdown",
      "source": [
        "## nn.Linear()"
      ],
      "metadata": {
        "id": "V6biDqPLEJIW"
      }
    },
    {
      "cell_type": "markdown",
      "source": [
        "**Linear Layer**\n",
        "\n",
        "We can use `nn.Linear(H_in, H_out)` to create a a linear layer. "
      ],
      "metadata": {
        "id": "g1XjwiszGpPp"
      }
    },
    {
      "cell_type": "code",
      "source": [
        "import torch.nn as nn"
      ],
      "metadata": {
        "id": "DjdJ2Qr0G3xX"
      },
      "execution_count": null,
      "outputs": []
    },
    {
      "cell_type": "code",
      "source": [
        "input = torch.ones(4)\n",
        "input"
      ],
      "metadata": {
        "colab": {
          "base_uri": "https://localhost:8080/"
        },
        "id": "6mDq7fDiBVa4",
        "outputId": "5e6cfe55-939b-417e-beee-2e984fa1a6b5"
      },
      "execution_count": null,
      "outputs": [
        {
          "output_type": "execute_result",
          "data": {
            "text/plain": [
              "tensor([1., 1., 1., 1.])"
            ]
          },
          "metadata": {},
          "execution_count": 123
        }
      ]
    },
    {
      "cell_type": "code",
      "source": [
        "linear = nn.Linear(in_features=4, out_features= 2)\n"
      ],
      "metadata": {
        "id": "E8ajUXGfGck-"
      },
      "execution_count": null,
      "outputs": []
    },
    {
      "cell_type": "code",
      "source": [
        "out = linear(input)\n",
        "out"
      ],
      "metadata": {
        "colab": {
          "base_uri": "https://localhost:8080/"
        },
        "id": "FGx1wbDQG2wS",
        "outputId": "9e95a381-2298-4c9a-baf5-2dbd15a8229b"
      },
      "execution_count": null,
      "outputs": [
        {
          "output_type": "execute_result",
          "data": {
            "text/plain": [
              "tensor([-0.5332,  0.5051], grad_fn=<AddBackward0>)"
            ]
          },
          "metadata": {},
          "execution_count": 125
        }
      ]
    },
    {
      "cell_type": "markdown",
      "source": [
        "But sometimes you need to train in batches.! how do we account for that?"
      ],
      "metadata": {
        "id": "I0zxS7EnHJsk"
      }
    },
    {
      "cell_type": "code",
      "source": [
        "input = torch.randn(5,4)\n",
        "input"
      ],
      "metadata": {
        "colab": {
          "base_uri": "https://localhost:8080/"
        },
        "id": "6tPeRPMDG8le",
        "outputId": "a3226445-5a9c-4c0f-c6ad-21b5d7c1f142"
      },
      "execution_count": null,
      "outputs": [
        {
          "output_type": "execute_result",
          "data": {
            "text/plain": [
              "tensor([[-0.2612, -0.9544,  1.1082,  0.8254],\n",
              "        [ 0.3337,  0.4326, -0.5582, -1.0146],\n",
              "        [-0.0979, -0.5938,  1.4627, -1.4629],\n",
              "        [ 0.6459,  0.2611,  1.9378, -1.8060],\n",
              "        [-0.5881, -0.9418, -0.3386, -1.2727]])"
            ]
          },
          "metadata": {},
          "execution_count": 126
        }
      ]
    },
    {
      "cell_type": "code",
      "source": [
        "out = linear(input)\n",
        "out"
      ],
      "metadata": {
        "colab": {
          "base_uri": "https://localhost:8080/"
        },
        "id": "_A-gbSVLHSYu",
        "outputId": "af6d2cb6-1457-4bdc-e0bd-fe38f7913472"
      },
      "execution_count": null,
      "outputs": [
        {
          "output_type": "execute_result",
          "data": {
            "text/plain": [
              "tensor([[-0.8506,  0.0035],\n",
              "        [-0.1125,  0.3432],\n",
              "        [-0.6805,  0.6350],\n",
              "        [-0.6626,  1.0627],\n",
              "        [-0.3428,  0.0526]], grad_fn=<AddmmBackward0>)"
            ]
          },
          "metadata": {},
          "execution_count": 127
        }
      ]
    },
    {
      "cell_type": "markdown",
      "source": [
        "In general we can use `nn.Linear(H_in, H_out)` to create a linear layer. This will take a matrix of `(N, *, H_in)` dimensions and output a matrix of `(N, *, H_out)`. The `*` denotes that there could be arbitrary number of dimensions in between. The linear layer performs the operation Ax+b, where A and b are **initialized randomly** (and this is typically what we want to learn). \n",
        "\n",
        "If we don't want the linear layer to learn the bias parameters, we can initialize our layer with bias=False."
      ],
      "metadata": {
        "id": "mVV9FlaTHYBf"
      }
    },
    {
      "cell_type": "code",
      "source": [
        "# Create the inputs\n",
        "input = torch.ones(2,3,4)\n",
        "\n",
        "# Make a linear layers transforming N,*,H_in dimensinal inputs to N,*,H_out\n",
        "# dimensional outputs\n",
        "linear = nn.Linear(in_features = 4, out_features = 2)\n",
        "linear_output = linear(input) # forward prop\n",
        "linear_output"
      ],
      "metadata": {
        "colab": {
          "base_uri": "https://localhost:8080/"
        },
        "id": "Jhw1LKqnH5_j",
        "outputId": "54c5fbc8-024b-4c36-fd47-ec1bca15651f"
      },
      "execution_count": null,
      "outputs": [
        {
          "output_type": "execute_result",
          "data": {
            "text/plain": [
              "tensor([[[ 0.6118, -1.2677],\n",
              "         [ 0.6118, -1.2677],\n",
              "         [ 0.6118, -1.2677]],\n",
              "\n",
              "        [[ 0.6118, -1.2677],\n",
              "         [ 0.6118, -1.2677],\n",
              "         [ 0.6118, -1.2677]]], grad_fn=<AddBackward0>)"
            ]
          },
          "metadata": {},
          "execution_count": 129
        }
      ]
    },
    {
      "cell_type": "markdown",
      "source": [
        "Okay! We have seen a single linear layer. But how do we create multiple layers?"
      ],
      "metadata": {
        "id": "5Ew24rBCHtX1"
      }
    },
    {
      "cell_type": "markdown",
      "source": [
        "## `nn.Sequential()`"
      ],
      "metadata": {
        "id": "XYDYNr-cH_JZ"
      }
    },
    {
      "cell_type": "code",
      "source": [
        "mlp = nn.Sequential(\n",
        "    nn.Linear(in_features = 4,out_features = 10),\n",
        "    nn.Linear(in_features =10,out_features = 2)\n",
        ")"
      ],
      "metadata": {
        "id": "41D6TdwUHTaW"
      },
      "execution_count": null,
      "outputs": []
    },
    {
      "cell_type": "code",
      "source": [
        ""
      ],
      "metadata": {
        "id": "JIvN8piPrgxh"
      },
      "execution_count": null,
      "outputs": []
    },
    {
      "cell_type": "code",
      "source": [
        "mlp(input)"
      ],
      "metadata": {
        "colab": {
          "base_uri": "https://localhost:8080/"
        },
        "id": "YOxit36_IOX_",
        "outputId": "2efd909b-7566-48df-91b1-69453632c3d8"
      },
      "execution_count": null,
      "outputs": [
        {
          "output_type": "execute_result",
          "data": {
            "text/plain": [
              "tensor([[[ 0.4115, -0.3507],\n",
              "         [ 0.4115, -0.3507],\n",
              "         [ 0.4115, -0.3507]],\n",
              "\n",
              "        [[ 0.4115, -0.3507],\n",
              "         [ 0.4115, -0.3507],\n",
              "         [ 0.4115, -0.3507]]], grad_fn=<AddBackward0>)"
            ]
          },
          "metadata": {},
          "execution_count": 132
        }
      ]
    },
    {
      "cell_type": "markdown",
      "source": [
        "## Activation Layers"
      ],
      "metadata": {
        "id": "-z0bkDvaITd8"
      }
    },
    {
      "cell_type": "markdown",
      "source": [
        "If one wants to use the `sigmoid` activation - In PyTorch one can call `nn.Sigmoid()` - Note that a sigmoid layer does not have any parameters. Infact , generally activation layers do not have any learnable parameters."
      ],
      "metadata": {
        "id": "_UkJ4yTkIVvH"
      }
    },
    {
      "cell_type": "code",
      "source": [
        "block = nn.Sequential(\n",
        "    \n",
        "    nn.Linear(4, 10),\n",
        "    nn.Sigmoid()\n",
        "    nn.Linear(10,5),\n",
        "    nn.Sigmoid() # RELU, TANH\n",
        ")\n",
        "\n",
        "input = torch.randn(2,3,4)\n",
        "output = block(input)\n",
        "output"
      ],
      "metadata": {
        "colab": {
          "base_uri": "https://localhost:8080/"
        },
        "id": "FGyI-cnBIVht",
        "outputId": "251e03d7-a3cb-46f1-ea0f-7f22e112ae47"
      },
      "execution_count": null,
      "outputs": [
        {
          "output_type": "execute_result",
          "data": {
            "text/plain": [
              "tensor([[[0.6012, 0.4092, 0.4407, 0.5507, 0.5942],\n",
              "         [0.4268, 0.5499, 0.4464, 0.6198, 0.5227],\n",
              "         [0.4801, 0.5090, 0.5333, 0.5731, 0.5394]],\n",
              "\n",
              "        [[0.3994, 0.5761, 0.4174, 0.6435, 0.5159],\n",
              "         [0.6069, 0.6464, 0.4268, 0.5029, 0.6460],\n",
              "         [0.3911, 0.5771, 0.3574, 0.6696, 0.5172]]],\n",
              "       grad_fn=<SigmoidBackward0>)"
            ]
          },
          "metadata": {},
          "execution_count": 133
        }
      ]
    },
    {
      "cell_type": "markdown",
      "source": [
        "## Custom Models"
      ],
      "metadata": {
        "id": "4phUIRdAKGni"
      }
    },
    {
      "cell_type": "markdown",
      "source": [
        "### Introduction to Python Classes:"
      ],
      "metadata": {
        "id": "8R5tZeYgKJur"
      }
    },
    {
      "cell_type": "code",
      "source": [
        "class student:\n",
        "  def __init__(self,name:str,batch:int): # new features for specifying type in python3.8\n",
        "    \n",
        "    self.name = name\n",
        "    self.batch = batch\n",
        "  \n",
        "  # define your functions\n",
        "\n",
        "  def get_reverse_name(self):\n",
        "\n",
        "    return self.name[::-1]\n",
        "\n",
        "  def get_grad_year(self,course):\n",
        "    return self.batch+5 if course==\"DD\" else self.batch+4\n"
      ],
      "metadata": {
        "id": "XeEm_hMzKFvd"
      },
      "execution_count": null,
      "outputs": []
    },
    {
      "cell_type": "code",
      "source": [
        "BVK = student(\"BVK\",2018)"
      ],
      "metadata": {
        "id": "33juZKlaKjGz"
      },
      "execution_count": null,
      "outputs": []
    },
    {
      "cell_type": "code",
      "source": [
        "# accessing data members\n",
        "BVK.name"
      ],
      "metadata": {
        "colab": {
          "base_uri": "https://localhost:8080/",
          "height": 35
        },
        "id": "7MQujMzrL8lP",
        "outputId": "ec242d20-ef89-4a30-a671-98e68becad11"
      },
      "execution_count": null,
      "outputs": [
        {
          "output_type": "execute_result",
          "data": {
            "text/plain": [
              "'BVK'"
            ],
            "application/vnd.google.colaboratory.intrinsic+json": {
              "type": "string"
            }
          },
          "metadata": {},
          "execution_count": 182
        }
      ]
    },
    {
      "cell_type": "code",
      "source": [
        "BVK.batch"
      ],
      "metadata": {
        "colab": {
          "base_uri": "https://localhost:8080/"
        },
        "id": "IGzYVi6sMFf7",
        "outputId": "05eee14e-5d28-46b4-a149-d5c504094d58"
      },
      "execution_count": null,
      "outputs": [
        {
          "output_type": "execute_result",
          "data": {
            "text/plain": [
              "2018"
            ]
          },
          "metadata": {},
          "execution_count": 183
        }
      ]
    },
    {
      "cell_type": "code",
      "source": [
        "# calling functions\n",
        "BVK.get_reverse_name() #notice that we do not pass self. instance.function() automatically does it."
      ],
      "metadata": {
        "colab": {
          "base_uri": "https://localhost:8080/",
          "height": 35
        },
        "id": "e2usXIfeMHcl",
        "outputId": "2402fbff-a77e-4810-a924-97bafe5cf237"
      },
      "execution_count": null,
      "outputs": [
        {
          "output_type": "execute_result",
          "data": {
            "text/plain": [
              "'KVB'"
            ],
            "application/vnd.google.colaboratory.intrinsic+json": {
              "type": "string"
            }
          },
          "metadata": {},
          "execution_count": 185
        }
      ]
    },
    {
      "cell_type": "code",
      "source": [
        "# calling functions with parameters.\n",
        "BVK.get_grad_year(\"DD\")"
      ],
      "metadata": {
        "colab": {
          "base_uri": "https://localhost:8080/"
        },
        "id": "T_AL1wnIMIrk",
        "outputId": "6e42c4da-1ac4-432c-c8d9-e9dd826b9029"
      },
      "execution_count": null,
      "outputs": [
        {
          "output_type": "execute_result",
          "data": {
            "text/plain": [
              "2023"
            ]
          },
          "metadata": {},
          "execution_count": 187
        }
      ]
    },
    {
      "cell_type": "code",
      "source": [
        "# good practice:\n",
        "BVK.get_grad_year(course=\"DD\")"
      ],
      "metadata": {
        "colab": {
          "base_uri": "https://localhost:8080/"
        },
        "id": "KmKVNVHOMjNt",
        "outputId": "615d67bc-a662-4a95-ab12-e86ad16872e7"
      },
      "execution_count": null,
      "outputs": [
        {
          "output_type": "execute_result",
          "data": {
            "text/plain": [
              "2023"
            ]
          },
          "metadata": {},
          "execution_count": 188
        }
      ]
    },
    {
      "cell_type": "markdown",
      "source": [
        "Things can get a bit complex here! Pay attention."
      ],
      "metadata": {
        "id": "L3UgS9AwMzFa"
      }
    },
    {
      "cell_type": "markdown",
      "source": [
        "Instead of using the predefined modules, we can also build our own by extending the `nn.Module` class. For example, we can build a the `nn.Linear` (which also extends `nn.Module`) on our own using the tensor introduced earlier! We can also build new, more complex modules, such as a custom neural network. You will be practicing these in the later assignment.\n",
        "\n",
        "To create a custom module, the first thing we have to do is to extend or inherit the `nn.Module`. We can then initialize our parameters in the `__init__` function, starting with a call to the `__init__` function of the `super class`. All the class attributes we define which are `nn` module objects are treated as parameters, which can be learned during the training. \n",
        "\n",
        "**Tensors are not parameters, but they can be turned into parameters if they are wrapped in nn.Parameter class.**\n",
        "\n",
        "All classes extending/inheriting `nn.Module` are also expected to implement a `forward(x)` function, where x is a tensor. This is the function that is called when a parameter is passed to our module, such as in model(x).\n",
        "\n",
        "Want to know more -- understand the `__call__` function"
      ],
      "metadata": {
        "id": "sNjwHoxCNSCd"
      }
    },
    {
      "cell_type": "code",
      "source": [
        "class MultilayerPerceptron(nn.Module):\n",
        "\n",
        "  def __init__(self, input_size, hidden_size):\n",
        "    # Call to the __init__ function of the super class\n",
        "    super(MultilayerPerceptron, self).__init__()\n",
        "\n",
        "    # Bookkeeping: Saving the initialization parameters\n",
        "    self.input_size = input_size \n",
        "    self.hidden_size = hidden_size \n",
        "\n",
        "    # Defining of our model\n",
        "    # There isn't anything specific about the naming of `self.model`. It could\n",
        "    # be something arbitrary.\n",
        "    self.model = nn.Sequential(\n",
        "        nn.Linear(self.input_size, self.hidden_size),\n",
        "        nn.ReLU(),\n",
        "        nn.Linear(self.hidden_size, self.input_size),\n",
        "        nn.Sigmoid()\n",
        "    )\n",
        "    \n",
        "  def forward(self, x):\n",
        "    output = self.model(x)\n",
        "    return output"
      ],
      "metadata": {
        "id": "fqC43tY8Mpcl"
      },
      "execution_count": null,
      "outputs": []
    },
    {
      "cell_type": "markdown",
      "source": [
        "Here is an alternative way to define the **same class**. You can see that we can replace `nn.Sequential` by defining the individual layers in the __init__ method and connecting the in the forward method."
      ],
      "metadata": {
        "id": "2JuZc9V6N2PQ"
      }
    },
    {
      "cell_type": "code",
      "source": [
        "class MultilayerPerceptron(nn.Module):\n",
        "\n",
        "  def __init__(self, input_size, hidden_size):\n",
        "    # Call to the __init__ function of the super class\n",
        "    super(MultilayerPerceptron, self).__init__()\n",
        "\n",
        "    # Bookkeeping: Saving the initialization parameters\n",
        "    self.input_size = input_size \n",
        "    self.hidden_size = hidden_size \n",
        "\n",
        "    # Defining of our layers\n",
        "    self.linear = nn.Linear(self.input_size, self.hidden_size)\n",
        "    self.relu = nn.ReLU()\n",
        "    self.linear2 = nn.Linear(self.hidden_size, self.input_size)\n",
        "    self.sigmoid = nn.Sigmoid()\n",
        "    \n",
        "  def forward(self, x):\n",
        "    linear = self.linear(x)\n",
        "    relu = self.relu(linear)\n",
        "    linear2 = self.linear2(relu)\n",
        "    output = self.sigmoid(linear2)\n",
        "    return output"
      ],
      "metadata": {
        "id": "hJ97IeuyN02A"
      },
      "execution_count": null,
      "outputs": []
    },
    {
      "cell_type": "markdown",
      "source": [
        "Now that we have defined our class, we can instantiate it and see what it does."
      ],
      "metadata": {
        "id": "TvKYrIFjOCga"
      }
    },
    {
      "cell_type": "code",
      "source": [
        "# Make a sample input\n",
        "input = torch.randn(2, 5)\n",
        "\n",
        "# Create our model\n",
        "model = MultilayerPerceptron(5, 3)\n",
        "\n",
        "# Pass our input through our model\n",
        "model(input)"
      ],
      "metadata": {
        "colab": {
          "base_uri": "https://localhost:8080/"
        },
        "id": "bmxB9gQGN99o",
        "outputId": "6cf1f35a-90a9-40aa-8893-f0d54db8750a"
      },
      "execution_count": null,
      "outputs": [
        {
          "output_type": "execute_result",
          "data": {
            "text/plain": [
              "tensor([[0.4263, 0.4642, 0.4540, 0.4476, 0.4292],\n",
              "        [0.4332, 0.4724, 0.4539, 0.4469, 0.4245]], grad_fn=<SigmoidBackward0>)"
            ]
          },
          "metadata": {},
          "execution_count": 136
        }
      ]
    },
    {
      "cell_type": "markdown",
      "source": [
        "We can inspect the parameters of our model with `named_parameters()` and `parameters()` methods."
      ],
      "metadata": {
        "id": "nQ7ZOGfEOJpm"
      }
    },
    {
      "cell_type": "code",
      "source": [
        "# model.parameters()"
      ],
      "metadata": {
        "id": "d_kekgbmtzcs"
      },
      "execution_count": null,
      "outputs": []
    },
    {
      "cell_type": "code",
      "source": [
        "list(model.named_parameters())\n"
      ],
      "metadata": {
        "colab": {
          "base_uri": "https://localhost:8080/"
        },
        "id": "-BXsAHy1OD6Y",
        "outputId": "f457ac92-cdfb-43dd-be6d-e348813b9e81"
      },
      "execution_count": null,
      "outputs": [
        {
          "output_type": "execute_result",
          "data": {
            "text/plain": [
              "[('linear.weight', Parameter containing:\n",
              "  tensor([[ 0.1806, -0.1759,  0.3249,  0.1463, -0.1434],\n",
              "          [ 0.0612, -0.1147,  0.3365,  0.0882, -0.0049],\n",
              "          [-0.0618, -0.4343,  0.0288,  0.0238, -0.3199]], requires_grad=True)),\n",
              " ('linear.bias', Parameter containing:\n",
              "  tensor([0.0682, 0.0052, 0.2081], requires_grad=True)),\n",
              " ('linear2.weight', Parameter containing:\n",
              "  tensor([[ 0.4818, -0.0911, -0.4814],\n",
              "          [-0.0232, -0.0403, -0.0628],\n",
              "          [ 0.5435,  0.2732, -0.2599],\n",
              "          [-0.1605,  0.2896,  0.5508],\n",
              "          [ 0.3895,  0.0326,  0.0896]], requires_grad=True)),\n",
              " ('linear2.bias', Parameter containing:\n",
              "  tensor([ 0.0118, -0.3315, -0.5369, -0.3529,  0.2460], requires_grad=True))]"
            ]
          },
          "metadata": {},
          "execution_count": 193
        }
      ]
    },
    {
      "cell_type": "markdown",
      "source": [
        "You can inspect the model layers, size and shape by printing the model"
      ],
      "metadata": {
        "id": "7HtKGDkaOP-p"
      }
    },
    {
      "cell_type": "code",
      "source": [
        "model # important for debugging"
      ],
      "metadata": {
        "colab": {
          "base_uri": "https://localhost:8080/"
        },
        "id": "3uspYNFoOHaA",
        "outputId": "9732135f-d59d-458f-8840-23e9f7cd2567"
      },
      "execution_count": null,
      "outputs": [
        {
          "output_type": "execute_result",
          "data": {
            "text/plain": [
              "MultilayerPerceptron(\n",
              "  (linear): Linear(in_features=5, out_features=3, bias=True)\n",
              "  (relu): ReLU()\n",
              "  (linear2): Linear(in_features=3, out_features=5, bias=True)\n",
              "  (sigmoid): Sigmoid()\n",
              ")"
            ]
          },
          "metadata": {},
          "execution_count": 196
        }
      ]
    },
    {
      "cell_type": "markdown",
      "source": [
        "Other useful library is `torchsummary`"
      ],
      "metadata": {
        "id": "xT27EQQLOcXW"
      }
    },
    {
      "cell_type": "code",
      "source": [
        "from torchsummary import summary"
      ],
      "metadata": {
        "id": "RPbc9Ks1OlaI"
      },
      "execution_count": null,
      "outputs": []
    },
    {
      "cell_type": "code",
      "source": [
        "summary(model,input_size=(10,5))"
      ],
      "metadata": {
        "colab": {
          "base_uri": "https://localhost:8080/"
        },
        "id": "RXwohI3XOYhx",
        "outputId": "d1d9ec15-278c-42a6-ca03-ecab67537af3"
      },
      "execution_count": null,
      "outputs": [
        {
          "output_type": "stream",
          "name": "stdout",
          "text": [
            "----------------------------------------------------------------\n",
            "        Layer (type)               Output Shape         Param #\n",
            "================================================================\n",
            "            Linear-1                [-1, 10, 3]              18\n",
            "              ReLU-2                [-1, 10, 3]               0\n",
            "            Linear-3                [-1, 10, 5]              20\n",
            "           Sigmoid-4                [-1, 10, 5]               0\n",
            "================================================================\n",
            "Total params: 38\n",
            "Trainable params: 38\n",
            "Non-trainable params: 0\n",
            "----------------------------------------------------------------\n",
            "Input size (MB): 0.00\n",
            "Forward/backward pass size (MB): 0.00\n",
            "Params size (MB): 0.00\n",
            "Estimated Total Size (MB): 0.00\n",
            "----------------------------------------------------------------\n"
          ]
        }
      ]
    },
    {
      "cell_type": "markdown",
      "source": [
        "We shall understand the terms a bit later."
      ],
      "metadata": {
        "id": "t1gufPIwOvkc"
      }
    },
    {
      "cell_type": "markdown",
      "source": [
        "## Dummy Data:"
      ],
      "metadata": {
        "id": "mXjyJerYPMYB"
      }
    },
    {
      "cell_type": "code",
      "source": [
        "# Create the y data\n",
        "y = torch.ones(10, 5)\n",
        "\n",
        "# Add some noise to our goal y to generate our x\n",
        "# We want out model to predict our original data, albeit the noise\n",
        "x = y + torch.randn_like(y)\n",
        "x"
      ],
      "metadata": {
        "colab": {
          "base_uri": "https://localhost:8080/"
        },
        "id": "P5jN_XORPNZh",
        "outputId": "c08ed95f-5e3a-4886-81d7-a1aff86f70f2"
      },
      "execution_count": null,
      "outputs": [
        {
          "output_type": "execute_result",
          "data": {
            "text/plain": [
              "tensor([[ 1.2615, -0.2632,  0.5419,  0.6176,  0.4636],\n",
              "        [ 2.1608,  1.2009,  0.2483,  2.2899,  2.0323],\n",
              "        [ 2.2785,  0.6051,  1.1722,  1.8934,  1.2985],\n",
              "        [ 0.2747, -0.5296,  1.5358,  2.0892,  0.6290],\n",
              "        [ 2.0828,  0.6666,  0.1905,  1.1817,  0.4504],\n",
              "        [-0.1284,  0.4848,  1.5273,  1.8551,  0.6730],\n",
              "        [-0.7221, -0.3960,  1.0732, -1.6507,  1.4448],\n",
              "        [-0.3188,  1.7094, -0.6547,  0.8384,  0.9052],\n",
              "        [ 0.0306, -0.0467,  0.7097,  1.0045,  1.0495],\n",
              "        [ 1.5080,  1.4703,  2.3015,  0.4347, -0.5780]])"
            ]
          },
          "metadata": {},
          "execution_count": 140
        }
      ]
    },
    {
      "cell_type": "code",
      "source": [
        "y"
      ],
      "metadata": {
        "colab": {
          "base_uri": "https://localhost:8080/"
        },
        "id": "A2DQwhIFuWu8",
        "outputId": "e52d387d-c802-4fa5-f176-e3b7f45b4272"
      },
      "execution_count": null,
      "outputs": [
        {
          "output_type": "execute_result",
          "data": {
            "text/plain": [
              "tensor([[1., 1., 1., 1., 1.],\n",
              "        [1., 1., 1., 1., 1.],\n",
              "        [1., 1., 1., 1., 1.],\n",
              "        [1., 1., 1., 1., 1.],\n",
              "        [1., 1., 1., 1., 1.],\n",
              "        [1., 1., 1., 1., 1.],\n",
              "        [1., 1., 1., 1., 1.],\n",
              "        [1., 1., 1., 1., 1.],\n",
              "        [1., 1., 1., 1., 1.],\n",
              "        [1., 1., 1., 1., 1.]])"
            ]
          },
          "metadata": {},
          "execution_count": 141
        }
      ]
    },
    {
      "cell_type": "code",
      "source": [
        ""
      ],
      "metadata": {
        "id": "H0yVCK_aPP3b"
      },
      "execution_count": null,
      "outputs": []
    },
    {
      "cell_type": "markdown",
      "source": [
        "We want to learn! Let's see our other steps."
      ],
      "metadata": {
        "id": "aruEoYTbPXkJ"
      }
    },
    {
      "cell_type": "markdown",
      "source": [
        "## Optimization\n",
        "\n",
        "We have showed how gradients are calculated with the `backward()` function. Having the gradients isn't enought for our models to learn. We also need to know how to update the parameters of our models. This is where the optimizers comes in. `torch.optim` module contains several optimizers that we can use. Some popular examples are `optim.SGD` and `optim.Adam`. When initializing optimizers, **we pass our model parameters**, which can be accessed with model.parameters(), telling the optimizers which values it will be optimizing. \n",
        "\n",
        "Optimizers also has a learning rate (lr) parameter, which determines how big of an update will be made in every step. Different optimizers have different hyperparameters as well."
      ],
      "metadata": {
        "id": "dCAvyOl-O1sv"
      }
    },
    {
      "cell_type": "code",
      "source": [
        "import torch.optim as optim"
      ],
      "metadata": {
        "id": "mRQoA0hhOmwZ"
      },
      "execution_count": null,
      "outputs": []
    },
    {
      "cell_type": "code",
      "source": [
        "# Instantiate the model\n",
        "model = MultilayerPerceptron(5, 3)"
      ],
      "metadata": {
        "id": "i74ZwL-4PHJK"
      },
      "execution_count": null,
      "outputs": []
    },
    {
      "cell_type": "code",
      "source": [
        "# Define the optimizer\n",
        "adam = optim.Adam(model.parameters(), lr=1e-1)"
      ],
      "metadata": {
        "id": "zFj5zLf8Pd9k"
      },
      "execution_count": null,
      "outputs": []
    },
    {
      "cell_type": "code",
      "source": [
        "# Define loss using a predefined loss function\n",
        "loss_function = nn.BCELoss()\n"
      ],
      "metadata": {
        "id": "QpYFToLlPfou"
      },
      "execution_count": null,
      "outputs": []
    },
    {
      "cell_type": "code",
      "source": [
        "# Calculate how our model is doing now\n",
        "y_pred = model(x)\n",
        "loss_function(y_pred, y).item()"
      ],
      "metadata": {
        "colab": {
          "base_uri": "https://localhost:8080/"
        },
        "id": "X03p126DPhSa",
        "outputId": "cc52878a-5207-4fc3-ffed-1cd576ad4a08"
      },
      "execution_count": null,
      "outputs": [
        {
          "output_type": "execute_result",
          "data": {
            "text/plain": [
              "0.6882650852203369"
            ]
          },
          "metadata": {},
          "execution_count": 146
        }
      ]
    },
    {
      "cell_type": "code",
      "source": [
        "# Set the number of epoch, which determines the number of training iterations\n",
        "n_epoch = 10 \n",
        "\n",
        "for epoch in range(n_epoch):\n",
        "  # Set the gradients to 0\n",
        "  adam.zero_grad() # remember that gradients were adding up! that is not desirable.\n",
        "\n",
        "  # Get the model predictions\n",
        "  y_pred = model(x)\n",
        "\n",
        "  # Get the loss\n",
        "  loss = loss_function(y_pred, y)\n",
        "\n",
        "  # Print stats\n",
        "  print(f\"Epoch {epoch}: traing loss: {loss}\")\n",
        "\n",
        "  # Compute the gradients\n",
        "  loss.backward()\n",
        "\n",
        "  # Take a step to optimize the weights\n",
        "  adam.step()"
      ],
      "metadata": {
        "colab": {
          "base_uri": "https://localhost:8080/"
        },
        "id": "JdftSGlBPiYm",
        "outputId": "b1405e2e-60ec-4ab7-e1d7-4089f567c089"
      },
      "execution_count": null,
      "outputs": [
        {
          "output_type": "stream",
          "name": "stdout",
          "text": [
            "Epoch 0: traing loss: 0.6882650852203369\n",
            "Epoch 1: traing loss: 0.6040355563163757\n",
            "Epoch 2: traing loss: 0.5332837104797363\n",
            "Epoch 3: traing loss: 0.44752487540245056\n",
            "Epoch 4: traing loss: 0.3415060043334961\n",
            "Epoch 5: traing loss: 0.238810196518898\n",
            "Epoch 6: traing loss: 0.15351499617099762\n",
            "Epoch 7: traing loss: 0.09175579249858856\n",
            "Epoch 8: traing loss: 0.05224194377660751\n",
            "Epoch 9: traing loss: 0.029199518263339996\n"
          ]
        }
      ]
    },
    {
      "cell_type": "markdown",
      "source": [
        "You can see that our loss is decreasing. Let's check the predictions of our model now and see if they are close to our original y, which was all 1s"
      ],
      "metadata": {
        "id": "awL0LWQLPzuN"
      }
    },
    {
      "cell_type": "code",
      "source": [
        "# See how our model performs on the training data\n",
        "y_pred = model(x)\n",
        "y_pred"
      ],
      "metadata": {
        "colab": {
          "base_uri": "https://localhost:8080/"
        },
        "id": "gSKCp0rUPv1D",
        "outputId": "39a052c9-e76c-4237-b066-f594dc050e49"
      },
      "execution_count": null,
      "outputs": [
        {
          "output_type": "execute_result",
          "data": {
            "text/plain": [
              "tensor([[0.9999, 0.9998, 0.9998, 0.9999, 0.9993],\n",
              "        [0.9960, 0.9938, 0.9992, 0.9970, 0.9985],\n",
              "        [1.0000, 1.0000, 0.9998, 1.0000, 0.9990],\n",
              "        [0.9991, 0.9986, 0.9927, 0.9990, 0.9804],\n",
              "        [1.0000, 1.0000, 1.0000, 1.0000, 0.9999],\n",
              "        [0.9999, 0.9999, 0.9995, 0.9999, 0.9977],\n",
              "        [0.9996, 0.9993, 0.9958, 0.9995, 0.9868],\n",
              "        [0.9996, 0.9993, 0.9993, 0.9997, 0.9979],\n",
              "        [0.9998, 0.9996, 0.9981, 0.9997, 0.9935],\n",
              "        [0.9995, 0.9991, 0.9991, 0.9995, 0.9973]], grad_fn=<SigmoidBackward0>)"
            ]
          },
          "metadata": {},
          "execution_count": 208
        }
      ]
    },
    {
      "cell_type": "markdown",
      "source": [
        "Looks like the model has learnt! Remember we had created y with all ones.!"
      ],
      "metadata": {
        "id": "-WNQAyE4P7SV"
      }
    },
    {
      "cell_type": "markdown",
      "source": [
        "That is it! You know how to code up in PyTorch. There are a little more things, but you know the fundamental idea.\n",
        "\n",
        "Let's revise!\n",
        "\n",
        "\n",
        "Steps:\n",
        "\n",
        "1. Define your problem statement.\n",
        "2. Look at your data (more on this later).\n",
        "3. Define your model \n",
        "  - inherit nn.module\n",
        "  - cross check the dimensions and other details using the `print(model)` or `torch.summary`'s `summary(model,input_size)`.\n",
        "4. instantiate your model\n",
        "5. We want to learn the model parameters, hence we want to an optimizer. Define an optimizer and pass on model.parameters() and learning rate.\n",
        "6. Define Loss Function.\n",
        "7. In each iteration:\n",
        "   - Forward pass : `model(input)`\n",
        "   - Set gradients to zero - `optim.zero_grad()`\n",
        "   - Compute Backward pass: `loss.backward()`\n",
        "   - Update the weights: `optimizer.step()`\n",
        "8. That's it - run this for multiple epochs. And hopefully your model is converging!."
      ],
      "metadata": {
        "id": "lCwYDH6sQDdH"
      }
    },
    {
      "cell_type": "markdown",
      "source": [
        "**Note:** Recall we that activation layers DO NOT have any learnable parameters (usually) and therefore we can use them directly in the `forward()` function. However, all layers that have learnable parameters MUST be defined in the `__init__()` function for your parameters to get updated."
      ],
      "metadata": {
        "id": "h3BaGvtKRpLl"
      }
    },
    {
      "cell_type": "markdown",
      "source": [
        "You have everything needed know to write your own neural nets. Practice.!!!"
      ],
      "metadata": {
        "id": "ZpPt6Nr3SLZu"
      }
    },
    {
      "cell_type": "markdown",
      "source": [
        "## Computer Vision!"
      ],
      "metadata": {
        "id": "52iewpgiSUPu"
      }
    },
    {
      "cell_type": "code",
      "source": [
        "import torch\n",
        "from torch import nn\n",
        "from torch.utils.data import DataLoader\n",
        "from torchvision import datasets\n",
        "from torchvision.transforms import ToTensor"
      ],
      "metadata": {
        "id": "408s4VENP3AB"
      },
      "execution_count": null,
      "outputs": []
    },
    {
      "cell_type": "markdown",
      "source": [
        "This is your Hello Computer Vision Moment! You are going to write your first classifier! Buckle up!\n",
        "\n",
        "We are going to take up PyTorch's Quickstart code and see what exactly is happening there. "
      ],
      "metadata": {
        "id": "ha6eX0UPSsBB"
      }
    },
    {
      "cell_type": "markdown",
      "source": [
        "PyTorch has two primitives to work with data: `torch.utils.data.DataLoader` and `torch.utils.data.Dataset`. Dataset stores the samples and their corresponding labels, and `DataLoader` wraps an iterable around the Dataset.\n",
        "\n",
        "More on this a little later."
      ],
      "metadata": {
        "id": "KzBT8jFyS63G"
      }
    },
    {
      "cell_type": "code",
      "source": [
        ""
      ],
      "metadata": {
        "id": "whSGIMfbSqzY"
      },
      "execution_count": null,
      "outputs": []
    },
    {
      "cell_type": "code",
      "source": [
        "# Download training data from open datasets.\n",
        "training_data = datasets.FashionMNIST(\n",
        "    root=\"data\",\n",
        "    train=True,\n",
        "    download=True,\n",
        "    transform=ToTensor(),\n",
        ")"
      ],
      "metadata": {
        "id": "PigUAn1XSYmw"
      },
      "execution_count": null,
      "outputs": []
    },
    {
      "cell_type": "code",
      "source": [
        "# Download test data from open datasets.\n",
        "test_data = datasets.FashionMNIST(\n",
        "    root=\"data\",\n",
        "    train=False,\n",
        "    download=True,\n",
        "    transform=ToTensor(),\n",
        ")"
      ],
      "metadata": {
        "id": "JNowCqcJSZ9G"
      },
      "execution_count": null,
      "outputs": []
    },
    {
      "cell_type": "code",
      "source": [
        "# Visualize the data:"
      ],
      "metadata": {
        "id": "15jYOoDYTRCE"
      },
      "execution_count": null,
      "outputs": []
    },
    {
      "cell_type": "code",
      "source": [
        "batch_size = 64\n",
        "\n",
        "# Create data loaders.\n",
        "train_dataloader = DataLoader(training_data, batch_size=batch_size)\n",
        "test_dataloader = DataLoader(test_data, batch_size=batch_size)\n",
        "\n",
        "for X, y in test_dataloader:\n",
        "    print(f\"Shape of X [N, C, H, W]: {X.shape}\")\n",
        "    print(f\"Shape of y: {y.shape} {y.dtype}\")\n",
        "    break"
      ],
      "metadata": {
        "colab": {
          "base_uri": "https://localhost:8080/"
        },
        "id": "YGoMY7pxScpB",
        "outputId": "a50c9733-73cb-46fe-fa15-2ff2b6980868"
      },
      "execution_count": null,
      "outputs": [
        {
          "output_type": "stream",
          "name": "stdout",
          "text": [
            "Shape of X [N, C, H, W]: torch.Size([64, 1, 28, 28])\n",
            "Shape of y: torch.Size([64]) torch.int64\n"
          ]
        }
      ]
    },
    {
      "cell_type": "markdown",
      "source": [
        "## Define your Model"
      ],
      "metadata": {
        "id": "H_8ER7bnTXqY"
      }
    },
    {
      "cell_type": "code",
      "source": [
        "# Get cpu or gpu device for training.\n",
        "device = \"cuda\" if torch.cuda.is_available() else \"cpu\"\n",
        "print(f\"Using {device} device\")\n",
        "\n",
        "# Define model\n",
        "class NeuralNetwork(nn.Module):\n",
        "    def __init__(self):\n",
        "        super(NeuralNetwork, self).__init__()\n",
        "        self.flatten = nn.Flatten()\n",
        "        self.linear_relu_stack = nn.Sequential(\n",
        "            nn.Linear(28*28, 512),\n",
        "            nn.ReLU(),\n",
        "            nn.Linear(512, 512),\n",
        "            nn.ReLU(),\n",
        "            nn.Linear(512, 10)\n",
        "        )\n",
        "\n",
        "    def forward(self, x):\n",
        "        x = self.flatten(x)\n",
        "        logits = self.linear_relu_stack(x)\n",
        "        return logits\n",
        "\n",
        "model = NeuralNetwork().to(device) # move your model to \n",
        "print(model)"
      ],
      "metadata": {
        "colab": {
          "base_uri": "https://localhost:8080/"
        },
        "id": "GwHMPdNiTUl1",
        "outputId": "ae0d7b5d-4fcb-4ec7-948c-6772795239f4"
      },
      "execution_count": null,
      "outputs": [
        {
          "output_type": "stream",
          "name": "stdout",
          "text": [
            "Using cpu device\n",
            "NeuralNetwork(\n",
            "  (flatten): Flatten(start_dim=1, end_dim=-1)\n",
            "  (linear_relu_stack): Sequential(\n",
            "    (0): Linear(in_features=784, out_features=512, bias=True)\n",
            "    (1): ReLU()\n",
            "    (2): Linear(in_features=512, out_features=512, bias=True)\n",
            "    (3): ReLU()\n",
            "    (4): Linear(in_features=512, out_features=10, bias=True)\n",
            "  )\n",
            ")\n"
          ]
        }
      ]
    },
    {
      "cell_type": "markdown",
      "source": [
        "## Define your loss function"
      ],
      "metadata": {
        "id": "3GjOnxTmTuHK"
      }
    },
    {
      "cell_type": "code",
      "source": [
        "loss_fn = nn.CrossEntropyLoss()"
      ],
      "metadata": {
        "id": "XcyP05G_TY-X"
      },
      "execution_count": null,
      "outputs": []
    },
    {
      "cell_type": "markdown",
      "source": [
        "## Define your optimizer function"
      ],
      "metadata": {
        "id": "yz8zvTm1TzEU"
      }
    },
    {
      "cell_type": "code",
      "source": [
        "optimizer = torch.optim.SGD(model.parameters(), lr=1e-3)"
      ],
      "metadata": {
        "id": "li7SsQgaTv7g"
      },
      "execution_count": null,
      "outputs": []
    },
    {
      "cell_type": "code",
      "source": [
        "torch.utils."
      ],
      "metadata": {
        "id": "KghzkZErYF0_"
      },
      "execution_count": null,
      "outputs": []
    },
    {
      "cell_type": "code",
      "source": [
        "dataloader / Dataset."
      ],
      "metadata": {
        "id": "LYpFh5LbYCBp"
      },
      "execution_count": null,
      "outputs": []
    },
    {
      "cell_type": "code",
      "source": [
        "# datasets - torchvision : MNIST/ Fashin"
      ],
      "metadata": {
        "id": "1cu2iqt2YYT9"
      },
      "execution_count": null,
      "outputs": []
    },
    {
      "cell_type": "code",
      "source": [
        "def train(, moddataloaderel, loss_fn, optimizer):\n",
        "    size = len(dataloader.dataset)\n",
        "    model.train()\n",
        "    for batch, (X, y) in enumerate(dataloader):\n",
        "        X, y = X gce), y.to(device)\n",
        "\n",
        "        # Compute prediction error\n",
        "        pred = model(X)\n",
        "        loss = loss_fn(pred, y)\n",
        "\n",
        "        # Backpropagation\n",
        "        optimizer.zero_grad()\n",
        "        loss.backward()\n",
        "        optimizer.step()\n",
        "\n",
        "        if batch % 100 == 0:\n",
        "            loss, current = loss.item(), batch * len(X)\n",
        "            print(f\"loss: {loss:>7f}  [{current:>5d}/{size:>5d}]\")"
      ],
      "metadata": {
        "id": "OdKXJ5cITwc1"
      },
      "execution_count": null,
      "outputs": []
    },
    {
      "cell_type": "code",
      "source": [
        "def test(dataloader, model, loss_fn):\n",
        "    size = len(dataloader.dataset)\n",
        "    num_batches = len(dataloader)\n",
        "    model.eval()\n",
        "    test_loss, correct = 0, 0\n",
        "    with torch.no_grad():\n",
        "        for X, y in dataloader:\n",
        "            X, y = X.to(device), y.to(device)\n",
        "            pred = model(X)\n",
        "            test_loss += loss_fn(pred, y).item()\n",
        "            correct += (pred.argmax(1) == y).type(torch.float).sum().item()\n",
        "    test_loss /= num_batches\n",
        "    correct /= size\n",
        "    print(f\"Test Error: \\n Accuracy: {(100*correct):>0.1f}%, Avg loss: {test_loss:>8f} \\n\")"
      ],
      "metadata": {
        "id": "g-Dca94jT3dZ"
      },
      "execution_count": null,
      "outputs": []
    },
    {
      "cell_type": "code",
      "source": [
        "epochs = 5\n",
        "for t in range(epochs):\n",
        "    print(f\"Epoch {t+1}\\n-------------------------------\")\n",
        "    train(train_dataloader, model, loss_fn, optimizer)\n",
        "    test(test_dataloader, model, loss_fn)\n",
        "print(\"Done!\")"
      ],
      "metadata": {
        "colab": {
          "base_uri": "https://localhost:8080/"
        },
        "id": "cgsFDHBoT6sx",
        "outputId": "d0bb4b6f-330e-4d70-8b00-9d21ba634555"
      },
      "execution_count": null,
      "outputs": [
        {
          "output_type": "stream",
          "name": "stdout",
          "text": [
            "Epoch 1\n",
            "-------------------------------\n",
            "loss: 2.311933  [    0/60000]\n",
            "loss: 2.305371  [ 6400/60000]\n",
            "loss: 2.284497  [12800/60000]\n",
            "loss: 2.267558  [19200/60000]\n",
            "loss: 2.262216  [25600/60000]\n",
            "loss: 2.227860  [32000/60000]\n",
            "loss: 2.229903  [38400/60000]\n",
            "loss: 2.202518  [44800/60000]\n",
            "loss: 2.192530  [51200/60000]\n",
            "loss: 2.160078  [57600/60000]\n",
            "Test Error: \n",
            " Accuracy: 44.9%, Avg loss: 2.161226 \n",
            "\n",
            "Epoch 2\n",
            "-------------------------------\n",
            "loss: 2.173546  [    0/60000]\n",
            "loss: 2.168222  [ 6400/60000]\n",
            "loss: 2.111716  [12800/60000]\n",
            "loss: 2.118853  [19200/60000]\n",
            "loss: 2.083331  [25600/60000]\n",
            "loss: 2.015227  [32000/60000]\n",
            "loss: 2.041491  [38400/60000]\n",
            "loss: 1.970131  [44800/60000]\n",
            "loss: 1.965418  [51200/60000]\n",
            "loss: 1.896813  [57600/60000]\n",
            "Test Error: \n",
            " Accuracy: 57.5%, Avg loss: 1.903381 \n",
            "\n",
            "Epoch 3\n",
            "-------------------------------\n",
            "loss: 1.933541  [    0/60000]\n",
            "loss: 1.911707  [ 6400/60000]\n",
            "loss: 1.798238  [12800/60000]\n",
            "loss: 1.831991  [19200/60000]\n",
            "loss: 1.726008  [25600/60000]\n",
            "loss: 1.671614  [32000/60000]\n",
            "loss: 1.691675  [38400/60000]\n",
            "loss: 1.598129  [44800/60000]\n",
            "loss: 1.613345  [51200/60000]\n",
            "loss: 1.507253  [57600/60000]\n",
            "Test Error: \n",
            " Accuracy: 60.0%, Avg loss: 1.533822 \n",
            "\n",
            "Epoch 4\n",
            "-------------------------------\n",
            "loss: 1.600291  [    0/60000]\n",
            "loss: 1.566688  [ 6400/60000]\n",
            "loss: 1.419705  [12800/60000]\n",
            "loss: 1.486618  [19200/60000]\n",
            "loss: 1.363842  [25600/60000]\n",
            "loss: 1.361006  [32000/60000]\n",
            "loss: 1.371741  [38400/60000]\n",
            "loss: 1.302727  [44800/60000]\n",
            "loss: 1.329558  [51200/60000]\n",
            "loss: 1.226930  [57600/60000]\n",
            "Test Error: \n",
            " Accuracy: 62.7%, Avg loss: 1.260523 \n",
            "\n",
            "Epoch 5\n",
            "-------------------------------\n",
            "loss: 1.342391  [    0/60000]\n",
            "loss: 1.319644  [ 6400/60000]\n",
            "loss: 1.156736  [12800/60000]\n",
            "loss: 1.259417  [19200/60000]\n",
            "loss: 1.129118  [25600/60000]\n",
            "loss: 1.160039  [32000/60000]\n",
            "loss: 1.176082  [38400/60000]\n",
            "loss: 1.120469  [44800/60000]\n",
            "loss: 1.151092  [51200/60000]\n",
            "loss: 1.062676  [57600/60000]\n",
            "Test Error: \n",
            " Accuracy: 64.3%, Avg loss: 1.091177 \n",
            "\n",
            "Done!\n"
          ]
        }
      ]
    },
    {
      "cell_type": "markdown",
      "source": [
        "64%? Seriously? That is what we have acheived? Is this deep learning? What's all the hype all about?\n",
        "\n",
        "You don't have to worry! Tomorrow you will be introduced to CNNs a powerful model architecture that will allow you to go above 90% accuracy! (even more)\n",
        "\n",
        "Coming back to the main point - you can see all we are going to discuss now will be how to model in different sort of ways. The pipeline remains fixed."
      ],
      "metadata": {
        "id": "aYMyoYFOVObb"
      }
    },
    {
      "cell_type": "markdown",
      "source": [
        "## How about Custom Datasets? \n",
        "\n",
        "Okay, nice, PyTorch has FashionMNIST. Are we restricted to training models only on datasets that are available in PyTorch? Absolutely NOT! \n",
        "\n",
        "So, how can I use my own custom dataset? Also Is there any sort of wrapper that will allow me to use the automatic batch dispatcher like the one we used above? Yes! You can make custom datasets to utilize PyTorch's `DataLoader` facility."
      ],
      "metadata": {
        "id": "DUN4kKDXT-2t"
      }
    },
    {
      "cell_type": "markdown",
      "source": [
        "I will show you a snippet of a malayalam character recognizer."
      ],
      "metadata": {
        "id": "zXEDXOGmVokH"
      }
    },
    {
      "cell_type": "markdown",
      "source": [
        "Things can get more and more complicated! Check out wandb."
      ],
      "metadata": {
        "id": "LNigIcvNYxu5"
      }
    },
    {
      "cell_type": "code",
      "source": [
        ""
      ],
      "metadata": {
        "id": "Gy0CkP-MT8b5"
      },
      "execution_count": null,
      "outputs": []
    }
  ]
}