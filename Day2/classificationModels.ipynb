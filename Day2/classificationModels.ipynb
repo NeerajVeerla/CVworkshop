{
  "nbformat": 4,
  "nbformat_minor": 0,
  "metadata": {
    "colab": {
      "name": "CVIT_Summer_School.ipynb",
      "provenance": [],
      "collapsed_sections": [],
      "include_colab_link": true
    },
    "kernelspec": {
      "name": "python3",
      "display_name": "Python 3"
    },
    "language_info": {
      "name": "python"
    }
  },
  "cells": [
    {
      "cell_type": "markdown",
      "metadata": {
        "id": "view-in-github",
        "colab_type": "text"
      },
      "source": [
        "<a href=\"https://colab.research.google.com/github/NeerajVeerla/CVworkshop/blob/master/Day2/classificationModels.ipynb\" target=\"_parent\"><img src=\"https://colab.research.google.com/assets/colab-badge.svg\" alt=\"Open In Colab\"/></a>"
      ]
    },
    {
      "cell_type": "markdown",
      "source": [
        "# **Datasets**\n",
        "\n",
        "https://archive.ics.uci.edu/ml/datasets.php"
      ],
      "metadata": {
        "id": "8gnjlvpYExgR"
      }
    },
    {
      "cell_type": "markdown",
      "source": [
        "##Iris Dataset"
      ],
      "metadata": {
        "id": "cfRICeOcSejP"
      }
    },
    {
      "cell_type": "code",
      "source": [
        "from sklearn.datasets import load_iris"
      ],
      "metadata": {
        "id": "ipWWJIWnOM4R"
      },
      "execution_count": 26,
      "outputs": []
    },
    {
      "cell_type": "code",
      "source": [
        "data = load_iris()"
      ],
      "metadata": {
        "id": "-NMRNvVzOV2l"
      },
      "execution_count": 27,
      "outputs": []
    },
    {
      "cell_type": "code",
      "source": [
        "print(data['DESCR'])\n"
      ],
      "metadata": {
        "colab": {
          "base_uri": "https://localhost:8080/"
        },
        "id": "BHLvYBjmOV0T",
        "outputId": "96c77996-1895-425d-ae7d-6e77e42d1581"
      },
      "execution_count": 28,
      "outputs": [
        {
          "output_type": "stream",
          "name": "stdout",
          "text": [
            ".. _iris_dataset:\n",
            "\n",
            "Iris plants dataset\n",
            "--------------------\n",
            "\n",
            "**Data Set Characteristics:**\n",
            "\n",
            "    :Number of Instances: 150 (50 in each of three classes)\n",
            "    :Number of Attributes: 4 numeric, predictive attributes and the class\n",
            "    :Attribute Information:\n",
            "        - sepal length in cm\n",
            "        - sepal width in cm\n",
            "        - petal length in cm\n",
            "        - petal width in cm\n",
            "        - class:\n",
            "                - Iris-Setosa\n",
            "                - Iris-Versicolour\n",
            "                - Iris-Virginica\n",
            "                \n",
            "    :Summary Statistics:\n",
            "\n",
            "    ============== ==== ==== ======= ===== ====================\n",
            "                    Min  Max   Mean    SD   Class Correlation\n",
            "    ============== ==== ==== ======= ===== ====================\n",
            "    sepal length:   4.3  7.9   5.84   0.83    0.7826\n",
            "    sepal width:    2.0  4.4   3.05   0.43   -0.4194\n",
            "    petal length:   1.0  6.9   3.76   1.76    0.9490  (high!)\n",
            "    petal width:    0.1  2.5   1.20   0.76    0.9565  (high!)\n",
            "    ============== ==== ==== ======= ===== ====================\n",
            "\n",
            "    :Missing Attribute Values: None\n",
            "    :Class Distribution: 33.3% for each of 3 classes.\n",
            "    :Creator: R.A. Fisher\n",
            "    :Donor: Michael Marshall (MARSHALL%PLU@io.arc.nasa.gov)\n",
            "    :Date: July, 1988\n",
            "\n",
            "The famous Iris database, first used by Sir R.A. Fisher. The dataset is taken\n",
            "from Fisher's paper. Note that it's the same as in R, but not as in the UCI\n",
            "Machine Learning Repository, which has two wrong data points.\n",
            "\n",
            "This is perhaps the best known database to be found in the\n",
            "pattern recognition literature.  Fisher's paper is a classic in the field and\n",
            "is referenced frequently to this day.  (See Duda & Hart, for example.)  The\n",
            "data set contains 3 classes of 50 instances each, where each class refers to a\n",
            "type of iris plant.  One class is linearly separable from the other 2; the\n",
            "latter are NOT linearly separable from each other.\n",
            "\n",
            ".. topic:: References\n",
            "\n",
            "   - Fisher, R.A. \"The use of multiple measurements in taxonomic problems\"\n",
            "     Annual Eugenics, 7, Part II, 179-188 (1936); also in \"Contributions to\n",
            "     Mathematical Statistics\" (John Wiley, NY, 1950).\n",
            "   - Duda, R.O., & Hart, P.E. (1973) Pattern Classification and Scene Analysis.\n",
            "     (Q327.D83) John Wiley & Sons.  ISBN 0-471-22361-1.  See page 218.\n",
            "   - Dasarathy, B.V. (1980) \"Nosing Around the Neighborhood: A New System\n",
            "     Structure and Classification Rule for Recognition in Partially Exposed\n",
            "     Environments\".  IEEE Transactions on Pattern Analysis and Machine\n",
            "     Intelligence, Vol. PAMI-2, No. 1, 67-71.\n",
            "   - Gates, G.W. (1972) \"The Reduced Nearest Neighbor Rule\".  IEEE Transactions\n",
            "     on Information Theory, May 1972, 431-433.\n",
            "   - See also: 1988 MLC Proceedings, 54-64.  Cheeseman et al\"s AUTOCLASS II\n",
            "     conceptual clustering system finds 3 classes in the data.\n",
            "   - Many, many more ...\n"
          ]
        }
      ]
    },
    {
      "cell_type": "code",
      "source": [
        "data['data'].shape"
      ],
      "metadata": {
        "colab": {
          "base_uri": "https://localhost:8080/"
        },
        "id": "RBZCcONcOVxx",
        "outputId": "95870de2-446c-4b3c-f2a5-e61e7d93c1e7"
      },
      "execution_count": 29,
      "outputs": [
        {
          "output_type": "execute_result",
          "data": {
            "text/plain": [
              "(150, 4)"
            ]
          },
          "metadata": {},
          "execution_count": 29
        }
      ]
    },
    {
      "cell_type": "code",
      "source": [
        "# data['data'][:]\n",
        "data['target'].shape"
      ],
      "metadata": {
        "colab": {
          "base_uri": "https://localhost:8080/"
        },
        "id": "iXulRiKIOVu_",
        "outputId": "a6e0cf94-4562-4b3f-84aa-23a021681d38"
      },
      "execution_count": 30,
      "outputs": [
        {
          "output_type": "execute_result",
          "data": {
            "text/plain": [
              "(150,)"
            ]
          },
          "metadata": {},
          "execution_count": 30
        }
      ]
    },
    {
      "cell_type": "code",
      "source": [
        "data['target_names']"
      ],
      "metadata": {
        "colab": {
          "base_uri": "https://localhost:8080/"
        },
        "id": "owlvohNpOVse",
        "outputId": "0e46f93d-157a-41bf-cae0-8d569897d313"
      },
      "execution_count": 31,
      "outputs": [
        {
          "output_type": "execute_result",
          "data": {
            "text/plain": [
              "array(['setosa', 'versicolor', 'virginica'], dtype='<U10')"
            ]
          },
          "metadata": {},
          "execution_count": 31
        }
      ]
    },
    {
      "cell_type": "code",
      "source": [
        ""
      ],
      "metadata": {
        "id": "msRnod3cOVpq"
      },
      "execution_count": 31,
      "outputs": []
    },
    {
      "cell_type": "markdown",
      "source": [
        "##MNIST Dataset"
      ],
      "metadata": {
        "id": "kL2sWwWPS3Tk"
      }
    },
    {
      "cell_type": "code",
      "source": [
        "from keras.datasets import mnist"
      ],
      "metadata": {
        "id": "pKPkwATkQY8y"
      },
      "execution_count": 32,
      "outputs": []
    },
    {
      "cell_type": "code",
      "source": [
        "# Load MNIST Data\n",
        "(train_X, train_y), (test_X, test_y) = mnist.load_data()\n"
      ],
      "metadata": {
        "id": "OdRGtVvCQY5O"
      },
      "execution_count": 33,
      "outputs": []
    },
    {
      "cell_type": "code",
      "source": [
        "print('X_train: ' + str(train_X.shape))\n",
        "print('Y_train: ' + str(train_y.shape))\n",
        "print('X_test:  '  + str(test_X.shape))\n",
        "print('Y_test:  '  + str(test_y.shape))\n"
      ],
      "metadata": {
        "colab": {
          "base_uri": "https://localhost:8080/"
        },
        "id": "3Fyl4xv_QzRB",
        "outputId": "5c1b1007-67ba-4a09-d6d3-76ec02161f7b"
      },
      "execution_count": 34,
      "outputs": [
        {
          "output_type": "stream",
          "name": "stdout",
          "text": [
            "X_train: (60000, 28, 28)\n",
            "Y_train: (60000,)\n",
            "X_test:  (10000, 28, 28)\n",
            "Y_test:  (10000,)\n"
          ]
        }
      ]
    },
    {
      "cell_type": "code",
      "source": [
        "from matplotlib import pyplot\n",
        "\n",
        "for i in range(9):  \n",
        "  pyplot.subplot(3,3,i+1)\n",
        "  pyplot.imshow(train_X[i], cmap=pyplot.get_cmap('gray'))\n",
        "  pyplot.title(train_y[i])\n",
        "  pyplot.show()"
      ],
      "metadata": {
        "colab": {
          "base_uri": "https://localhost:8080/",
          "height": 1000
        },
        "id": "exIyWFgmQzOU",
        "outputId": "e382beed-80e2-460e-d248-9f79ae3f5535"
      },
      "execution_count": 35,
      "outputs": [
        {
          "output_type": "display_data",
          "data": {
            "text/plain": [
              "<Figure size 432x288 with 1 Axes>"
            ],
            "image/png": "[encoded data removed]"
          },
          "metadata": {
            "needs_background": "light"
          }
        },
        {
          "output_type": "display_data",
          "data": {
            "text/plain": [
              "<Figure size 432x288 with 1 Axes>"
            ],
            "image/png": "[encoded data removed]"
          },
          "metadata": {
            "needs_background": "light"
          }
        },
        {
          "output_type": "display_data",
          "data": {
            "text/plain": [
              "<Figure size 432x288 with 1 Axes>"
            ],
            "image/png": "[encoded data removed]"
          },
          "metadata": {
            "needs_background": "light"
          }
        },
        {
          "output_type": "display_data",
          "data": {
            "text/plain": [
              "<Figure size 432x288 with 1 Axes>"
            ],
            "image/png": "[encoded data removed]"
          },
          "metadata": {
            "needs_background": "light"
          }
        },
        {
          "output_type": "display_data",
          "data": {
            "text/plain": [
              "<Figure size 432x288 with 1 Axes>"
            ],
            "image/png": "[encoded data removed]"
          },
          "metadata": {
            "needs_background": "light"
          }
        },
        {
          "output_type": "display_data",
          "data": {
            "text/plain": [
              "<Figure size 432x288 with 1 Axes>"
            ],
            "image/png": "[encoded data removed]"
          },
          "metadata": {
            "needs_background": "light"
          }
        },
        {
          "output_type": "display_data",
          "data": {
            "text/plain": [
              "<Figure size 432x288 with 1 Axes>"
            ],
            "image/png": "[encoded data removed]"
          },
          "metadata": {
            "needs_background": "light"
          }
        },
        {
          "output_type": "display_data",
          "data": {
            "text/plain": [
              "<Figure size 432x288 with 1 Axes>"
            ],
            "image/png": "[encoded data removed]"
          },
          "metadata": {
            "needs_background": "light"
          }
        },
        {
          "output_type": "display_data",
          "data": {
            "text/plain": [
              "<Figure size 432x288 with 1 Axes>"
            ],
            "image/png": "[encoded data removed]"
          },
          "metadata": {
            "needs_background": "light"
          }
        }
      ]
    },
    {
      "cell_type": "code",
      "source": [
        ""
      ],
      "metadata": {
        "id": "FZaN5VZbQzLi"
      },
      "execution_count": 35,
      "outputs": []
    },
    {
      "cell_type": "code",
      "source": [
        ""
      ],
      "metadata": {
        "id": "5e2C0f57QzJC"
      },
      "execution_count": 35,
      "outputs": []
    },
    {
      "cell_type": "markdown",
      "source": [
        "#**K Nearest Classifier**"
      ],
      "metadata": {
        "id": "cu3z8Gu0NsmM"
      }
    },
    {
      "cell_type": "markdown",
      "source": [
        "![image.png](data:image/png;base64,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)"
      ],
      "metadata": {
        "id": "zOrLywy2Vk5b"
      }
    },
    {
      "cell_type": "markdown",
      "source": [
        "Step-1: Select the number K of the neighbors\n",
        "\n",
        "Step-2: Calculate the Euclidean distance of K number of neighbors\n",
        "\n",
        "Step-3: Take the K nearest neighbors as per the calculated Euclidean distance.\n",
        "\n",
        "Step-4: Among these k neighbors, count the number of the data points in each category.\n",
        "\n",
        "Step-5: Assign the new data points to that category for which the number of the neighbor is maximum.\n"
      ],
      "metadata": {
        "id": "Qs-VeHSRdFVM"
      }
    },
    {
      "cell_type": "code",
      "source": [
        "#Importing the required modules\n",
        "import numpy as np\n",
        "from scipy.stats import mode\n",
        " \n",
        "#Euclidean Distance\n",
        "def eucledian(p1,p2):\n",
        "    dist = np.sqrt(np.sum((p1-p2)**2))\n",
        "    return dist\n",
        " \n",
        "#Function to calculate KNN\n",
        "def predict(x_train, y , x_input, k):\n",
        "    op_labels = []\n",
        "     \n",
        "    #Loop through the Datapoints to be classified\n",
        "    for item in x_input: \n",
        "         \n",
        "        #Array to store distances\n",
        "        point_dist = []\n",
        "         \n",
        "        #Loop through each training Data\n",
        "        for j in range(len(x_train)): \n",
        "            distances = eucledian(np.array(x_train[j,:]) , item) \n",
        "            #Calculating the distance\n",
        "            point_dist.append(distances) \n",
        "        point_dist = np.array(point_dist) \n",
        "         \n",
        "        #Sorting the array while preserving the index\n",
        "        #Keeping the first K datapoints\n",
        "        dist = np.argsort(point_dist)[:k] \n",
        "         \n",
        "        #Labels of the K datapoints from above\n",
        "        labels = y[dist]\n",
        "         \n",
        "        #Majority voting\n",
        "        lab = mode(labels) \n",
        "        lab = lab.mode[0]\n",
        "        op_labels.append(lab)\n",
        " \n",
        "    return op_labels"
      ],
      "metadata": {
        "id": "RxjSmRe1E0RO"
      },
      "execution_count": 36,
      "outputs": []
    },
    {
      "cell_type": "code",
      "source": [
        "#Importing the required modules\n",
        "#Importing required modules\n",
        "from sklearn.metrics import accuracy_score,f1_score,precision_score,recall_score\n",
        "from sklearn.datasets import load_iris\n",
        "from numpy.random import randint\n",
        "import numpy\n",
        "import matplotlib.pyplot as plt\n",
        "numpy.random.seed(0)\n",
        "\n",
        "#Loading the Data\n",
        "iris= load_iris()\n",
        " \n",
        "# Store features matrix in X\n",
        "X= iris.data\n",
        "#Store target vector in \n",
        "y= iris.target\n",
        " \n",
        " \n",
        "#Creating the training Data\n",
        "train_idx =randint(0,150,100)\n",
        "X_train = X[train_idx]\n",
        "y_train = y[train_idx]\n",
        " \n",
        "#Creating the testing Data\n",
        "test_idx = numpy.setdiff1d(range(150),train_idx)\n",
        "X_test = X[test_idx]\n",
        "y_test = y[test_idx]\n",
        "\n",
        "\n",
        "acc_li=[]\n",
        "for k in range(100):\n",
        "  #Applying our function \n",
        "  y_pred = predict(X_train,y_train,X_test , k+1)\n",
        "  \n",
        "  #Checking the accuracy\n",
        "  accuracy_score(y_test, y_pred)\n",
        "  acc_li.append(accuracy_score(y_test, y_pred))\n",
        "plt.plot(acc_li)"
      ],
      "metadata": {
        "colab": {
          "base_uri": "https://localhost:8080/",
          "height": 284
        },
        "id": "EVJSeh69E0bu",
        "outputId": "e7af19aa-c160-4d8a-cdd9-e0c5d4151203"
      },
      "execution_count": 37,
      "outputs": [
        {
          "output_type": "execute_result",
          "data": {
            "text/plain": [
              "[<matplotlib.lines.Line2D at 0x7f43697e9390>]"
            ]
          },
          "metadata": {},
          "execution_count": 37
        },
        {
          "output_type": "display_data",
          "data": {
            "text/plain": [
              "<Figure size 432x288 with 1 Axes>"
            ],
            "image/png": "[encoded data removed]"
          },
          "metadata": {
            "needs_background": "light"
          }
        }
      ]
    },
    {
      "cell_type": "code",
      "source": [
        "acc_li"
      ],
      "metadata": {
        "colab": {
          "base_uri": "https://localhost:8080/"
        },
        "id": "gTVruK6M1Qd1",
        "outputId": "297f5305-8b7e-4bd9-fdf0-cc4eb2d62b05"
      },
      "execution_count": 38,
      "outputs": [
        {
          "output_type": "execute_result",
          "data": {
            "text/plain": [
              "[0.9615384615384616,\n",
              " 0.9615384615384616,\n",
              " 0.9743589743589743,\n",
              " 0.9743589743589743,\n",
              " 0.9487179487179487,\n",
              " 0.9487179487179487,\n",
              " 0.9358974358974359,\n",
              " 0.9487179487179487,\n",
              " 0.9230769230769231,\n",
              " 0.9358974358974359,\n",
              " 0.9230769230769231,\n",
              " 0.9358974358974359,\n",
              " 0.9230769230769231,\n",
              " 0.9358974358974359,\n",
              " 0.9230769230769231,\n",
              " 0.9358974358974359,\n",
              " 0.9230769230769231,\n",
              " 0.9230769230769231,\n",
              " 0.9102564102564102,\n",
              " 0.9358974358974359,\n",
              " 0.9102564102564102,\n",
              " 0.9102564102564102,\n",
              " 0.8974358974358975,\n",
              " 0.9102564102564102,\n",
              " 0.9102564102564102,\n",
              " 0.9102564102564102,\n",
              " 0.9102564102564102,\n",
              " 0.9102564102564102,\n",
              " 0.9102564102564102,\n",
              " 0.9102564102564102,\n",
              " 0.9102564102564102,\n",
              " 0.9102564102564102,\n",
              " 0.9102564102564102,\n",
              " 0.9230769230769231,\n",
              " 0.9102564102564102,\n",
              " 0.9102564102564102,\n",
              " 0.9102564102564102,\n",
              " 0.9102564102564102,\n",
              " 0.9102564102564102,\n",
              " 0.9102564102564102,\n",
              " 0.9102564102564102,\n",
              " 0.9102564102564102,\n",
              " 0.8974358974358975,\n",
              " 0.9102564102564102,\n",
              " 0.8846153846153846,\n",
              " 0.8846153846153846,\n",
              " 0.8846153846153846,\n",
              " 0.8974358974358975,\n",
              " 0.8717948717948718,\n",
              " 0.8717948717948718,\n",
              " 0.8717948717948718,\n",
              " 0.8974358974358975,\n",
              " 0.8846153846153846,\n",
              " 0.8846153846153846,\n",
              " 0.8333333333333334,\n",
              " 0.8333333333333334,\n",
              " 0.8333333333333334,\n",
              " 0.8461538461538461,\n",
              " 0.8461538461538461,\n",
              " 0.8461538461538461,\n",
              " 0.7307692307692307,\n",
              " 0.7307692307692307,\n",
              " 0.717948717948718,\n",
              " 0.717948717948718,\n",
              " 0.717948717948718,\n",
              " 0.717948717948718,\n",
              " 0.717948717948718,\n",
              " 0.717948717948718,\n",
              " 0.717948717948718,\n",
              " 0.7051282051282052,\n",
              " 0.7051282051282052,\n",
              " 0.7051282051282052,\n",
              " 0.7051282051282052,\n",
              " 0.7051282051282052,\n",
              " 0.7051282051282052,\n",
              " 0.7051282051282052,\n",
              " 0.6923076923076923,\n",
              " 0.6923076923076923,\n",
              " 0.6923076923076923,\n",
              " 0.6923076923076923,\n",
              " 0.6923076923076923,\n",
              " 0.6923076923076923,\n",
              " 0.6923076923076923,\n",
              " 0.6923076923076923,\n",
              " 0.6923076923076923,\n",
              " 0.6794871794871795,\n",
              " 0.6794871794871795,\n",
              " 0.6794871794871795,\n",
              " 0.6666666666666666,\n",
              " 0.6666666666666666,\n",
              " 0.6666666666666666,\n",
              " 0.6666666666666666,\n",
              " 0.6666666666666666,\n",
              " 0.6666666666666666,\n",
              " 0.6666666666666666,\n",
              " 0.6538461538461539,\n",
              " 0.32051282051282054,\n",
              " 0.32051282051282054,\n",
              " 0.32051282051282054,\n",
              " 0.32051282051282054]"
            ]
          },
          "metadata": {},
          "execution_count": 38
        }
      ]
    },
    {
      "cell_type": "code",
      "source": [
        ""
      ],
      "metadata": {
        "id": "odNcoh6h1QhD"
      },
      "execution_count": 38,
      "outputs": []
    },
    {
      "cell_type": "code",
      "source": [
        "print(len(test_idx))"
      ],
      "metadata": {
        "colab": {
          "base_uri": "https://localhost:8080/"
        },
        "id": "D0nFvhw-1tQk",
        "outputId": "c0a77732-6f1c-48cf-ee67-339811868d90"
      },
      "execution_count": 39,
      "outputs": [
        {
          "output_type": "stream",
          "name": "stdout",
          "text": [
            "78\n"
          ]
        }
      ]
    },
    {
      "cell_type": "markdown",
      "source": [
        "## **KNN: distance metrics**\n",
        "\n",
        "1. Euclidean distance (p=2)\n",
        "\n",
        "2. Manhattan distance (p=1) \n",
        "\n",
        "3. Minkowski distance\n",
        "\n",
        "4. Hamming distance"
      ],
      "metadata": {
        "id": "mgsRLXo4d0Pd"
      }
    },
    {
      "cell_type": "code",
      "source": [
        ""
      ],
      "metadata": {
        "id": "9nJvsqiBE6wl"
      },
      "execution_count": 39,
      "outputs": []
    },
    {
      "cell_type": "markdown",
      "source": [
        "# **Scikit Learn Intro**\n",
        "\n",
        "1. Load dataset\n",
        "\n",
        "2. preprocess data\n",
        "\n",
        "3. Instantiate estimator\n",
        "\n",
        "4. Fit\n",
        "\n",
        "5. predict/evaluate"
      ],
      "metadata": {
        "id": "KHtiJZNtE6_I"
      }
    },
    {
      "cell_type": "markdown",
      "source": [
        ""
      ],
      "metadata": {
        "id": "2KjWzypgkDKW"
      }
    },
    {
      "cell_type": "code",
      "source": [
        "## load the iris data into a DataFrame\n",
        "import pandas as pd\n",
        "url = 'http://archive.ics.uci.edu/ml/machine-learning-databases/iris/iris.data' \n",
        "## Specifying column names.\n",
        "col_names = ['sepal_length', 'sepal_width', 'petal_length', 'petal_width', 'species']\n",
        "iris = pd.read_csv(url, header=None, names=col_names)"
      ],
      "metadata": {
        "id": "4W0UY2N8kDWp"
      },
      "execution_count": 40,
      "outputs": []
    },
    {
      "cell_type": "code",
      "source": [
        "iris_class = {'Iris-setosa':0, 'Iris-versicolor':1, 'Iris-virginica':2}\n",
        "iris['species_num'] = [iris_class[i] for i in iris.species]"
      ],
      "metadata": {
        "id": "k3Mg8bZQkDdS"
      },
      "execution_count": 41,
      "outputs": []
    },
    {
      "cell_type": "code",
      "source": [
        "## Create an 'X' matrix by dropping the irrelevant columns.\n",
        "X = iris.drop(['species', 'species_num'], axis=1)\n",
        "y = iris.species_num"
      ],
      "metadata": {
        "id": "IYVfngzhkOne"
      },
      "execution_count": 42,
      "outputs": []
    },
    {
      "cell_type": "code",
      "source": [
        "from sklearn.model_selection import train_test_split\n",
        "## Split data into training and testing sets.\n",
        "X_train, X_test, y_train, y_test = train_test_split(X, y, random_state=42,test_size=0.33)"
      ],
      "metadata": {
        "id": "jAAlGdqGkOkU"
      },
      "execution_count": 43,
      "outputs": []
    },
    {
      "cell_type": "code",
      "source": [
        "from sklearn.metrics import precision_score"
      ],
      "metadata": {
        "id": "dmxm5wRNFEig"
      },
      "execution_count": 50,
      "outputs": []
    },
    {
      "cell_type": "markdown",
      "source": [
        "KNN, Linear Classifier, SVM, MLP Classifier"
      ],
      "metadata": {
        "id": "Z2T7weqsFDXY"
      }
    },
    {
      "cell_type": "markdown",
      "source": [
        "# KNN"
      ],
      "metadata": {
        "id": "uCTsIolKmjuO"
      }
    },
    {
      "cell_type": "code",
      "source": [
        "# Load dataset\n",
        "X_train, X_test, y_train, y_test = train_test_split(X, y, random_state=42,test_size=0.33)\n",
        "\n",
        "# pre-process data\n",
        "X_train_mean=np.mean(X_train)\n",
        "X_train_std=np.std(X_train)\n",
        "\n",
        "X_train=(X_train-X_train_mean)/X_train_std\n",
        "\n",
        "\n",
        "# instantiate estimator\n",
        "from sklearn.neighbors import KNeighborsClassifier\n",
        "knn = KNeighborsClassifier(n_neighbors=3)\n",
        "\n",
        "\n",
        "# fit\n",
        "knn.fit(X_train, y_train)\n",
        "\n",
        "\n",
        "# predict/evaluate\n",
        "X_test=(X_test-X_train_mean)/X_train_std\n",
        "knn.score(X_test, y_test)"
      ],
      "metadata": {
        "colab": {
          "base_uri": "https://localhost:8080/"
        },
        "id": "ZD273eGqfCuu",
        "outputId": "4585b659-8a04-4d32-d6f0-7b4897bece81"
      },
      "execution_count": 44,
      "outputs": [
        {
          "output_type": "execute_result",
          "data": {
            "text/plain": [
              "0.98"
            ]
          },
          "metadata": {},
          "execution_count": 44
        }
      ]
    },
    {
      "cell_type": "markdown",
      "source": [
        "# Linear"
      ],
      "metadata": {
        "id": "KgFOqSusmlvG"
      }
    },
    {
      "cell_type": "code",
      "source": [
        "# Load dataset\n",
        "# already done, same as above\n",
        "\n",
        "\n",
        "# pre-process data\n",
        "# same as above\n",
        "\n",
        "\n",
        "# instantiate estimator\n",
        "from sklearn import linear_model\n",
        "reg = linear_model.RidgeCV(alphas=np.logspace(-6, 6, 13))\n",
        "\n",
        "\n",
        "# fit\n",
        "reg.fit(X_train, y_train)\n",
        "\n",
        "\n",
        "# predict/evaluate\n",
        "reg.score(X_test, y_test)"
      ],
      "metadata": {
        "colab": {
          "base_uri": "https://localhost:8080/"
        },
        "id": "5VeCxj-IfPDO",
        "outputId": "517c3320-0b2c-43ac-ff56-3caa4d2e0109"
      },
      "execution_count": 45,
      "outputs": [
        {
          "output_type": "execute_result",
          "data": {
            "text/plain": [
              "0.9377675795032778"
            ]
          },
          "metadata": {},
          "execution_count": 45
        }
      ]
    },
    {
      "cell_type": "markdown",
      "source": [
        "# SVM"
      ],
      "metadata": {
        "id": "mjfTuvPwmokK"
      }
    },
    {
      "cell_type": "code",
      "source": [
        "# Load dataset\n",
        "\n",
        "# pre-process data\n",
        "\n",
        "# instantiate estimator\n",
        "from sklearn import svm\n",
        "clf = svm.SVC()\n",
        "\n",
        "# fit\n",
        "clf.fit(X_train, y_train)\n",
        "\n",
        "# predict/evaluate\n",
        "pred1=clf.predict(X_test)\n",
        "clf.score(X_test, y_test)"
      ],
      "metadata": {
        "colab": {
          "base_uri": "https://localhost:8080/"
        },
        "id": "tWtYWfz9fO8W",
        "outputId": "8e6f6793-f077-4c67-cffa-45c9c43ac688"
      },
      "execution_count": 46,
      "outputs": [
        {
          "output_type": "execute_result",
          "data": {
            "text/plain": [
              "0.98"
            ]
          },
          "metadata": {},
          "execution_count": 46
        }
      ]
    },
    {
      "cell_type": "code",
      "source": [
        "# Load dataset\n",
        "\n",
        "# pre-process data\n",
        "\n",
        "# instantiate estimator\n",
        "from sklearn.neural_network import MLPClassifier\n",
        "clf = MLPClassifier(random_state=1, max_iter=50)\n",
        "\n",
        "# fit\n",
        "clf.fit(X_train, y_train)\n",
        "\n",
        "# predict/evaluate\n",
        "y_pred1 = clf.predict(X_test)\n",
        "precision_score(y_test, y_pred1, average='macro')\n"
      ],
      "metadata": {
        "colab": {
          "base_uri": "https://localhost:8080/"
        },
        "id": "9uRIP6ljfOvn",
        "outputId": "7e0bb668-08f1-4f2f-ee5d-c00d8e51b88d"
      },
      "execution_count": 52,
      "outputs": [
        {
          "output_type": "stream",
          "name": "stderr",
          "text": [
            "/usr/local/lib/python3.7/dist-packages/sklearn/neural_network/_multilayer_perceptron.py:696: ConvergenceWarning: Stochastic Optimizer: Maximum iterations (50) reached and the optimization hasn't converged yet.\n",
            "  ConvergenceWarning,\n"
          ]
        },
        {
          "output_type": "execute_result",
          "data": {
            "text/plain": [
              "0.8569023569023568"
            ]
          },
          "metadata": {},
          "execution_count": 52
        }
      ]
    },
    {
      "cell_type": "markdown",
      "source": [
        "Analyse results based on different metrics and classifiers."
      ],
      "metadata": {
        "id": "OFZdpkLxFjdA"
      }
    },
    {
      "cell_type": "code",
      "source": [
        "clf.score(X_test, y_test)"
      ],
      "metadata": {
        "id": "vLVljrbyHCm7",
        "outputId": "0be44fc2-0d54-4349-fd2b-85bc62d5d6eb",
        "colab": {
          "base_uri": "https://localhost:8080/"
        }
      },
      "execution_count": 53,
      "outputs": [
        {
          "output_type": "execute_result",
          "data": {
            "text/plain": [
              "0.84"
            ]
          },
          "metadata": {},
          "execution_count": 53
        }
      ]
    },
    {
      "cell_type": "code",
      "source": [
        "\n",
        "\n",
        "precision_score(y_test, y_pred, average='macro')"
      ],
      "metadata": {
        "id": "slekUliE1Xfr",
        "outputId": "2dfb2d01-2722-4670-a194-83a67c1550ab",
        "colab": {
          "base_uri": "https://localhost:8080/"
        }
      },
      "execution_count": 49,
      "outputs": [
        {
          "output_type": "execute_result",
          "data": {
            "text/plain": [
              "0.8569023569023568"
            ]
          },
          "metadata": {},
          "execution_count": 49
        }
      ]
    },
    {
      "cell_type": "code",
      "source": [
        ""
      ],
      "metadata": {
        "id": "CJOTWpaR1ZRi"
      },
      "execution_count": null,
      "outputs": []
    }
  ]
}